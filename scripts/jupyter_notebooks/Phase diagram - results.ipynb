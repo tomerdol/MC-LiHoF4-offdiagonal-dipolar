{
 "cells": [
  {
   "cell_type": "code",
   "execution_count": 1,
   "metadata": {},
   "outputs": [],
   "source": [
    "import numpy as np\n",
    "from matplotlib import pyplot as plt\n",
    "import matplotlib\n",
    "from scipy.interpolate import make_interp_spline, BSpline"
   ]
  },
  {
   "cell_type": "code",
   "execution_count": 2,
   "metadata": {},
   "outputs": [],
   "source": [
    "def sort(lst, sort_by_y=False):\n",
    "    if len(lst)==3:\n",
    "        x, y, err = lst\n",
    "    elif len(lst)==2:\n",
    "        x, y = lst\n",
    "        \n",
    "    if not sort_by_y:\n",
    "        p = x.argsort()\n",
    "    else:\n",
    "        p = y.argsort()\n",
    "    x=x[p]\n",
    "    y=y[p]\n",
    "    if len(lst)==3:\n",
    "        err=err[p]\n",
    "    \n",
    "    if len(lst)==3:\n",
    "        return (x,y,err)\n",
    "    elif len(lst)==2:\n",
    "        return (x,y)"
   ]
  },
  {
   "cell_type": "code",
   "execution_count": 3,
   "metadata": {},
   "outputs": [],
   "source": [
    "def make_interp(x,y):\n",
    "    x,y = sort([x,y])\n",
    "    x_new = np.linspace(x.min(),x.max(),300) #300 represents number of points to make between T.min and T.max\n",
    "    spl = make_interp_spline(x, y, k=2) #BSpline object\n",
    "    y_smooth = spl(x_new)\n",
    "    return (x_new, y_smooth)"
   ]
  },
  {
   "cell_type": "code",
   "execution_count": 8,
   "metadata": {
    "scrolled": false
   },
   "outputs": [],
   "source": [
    "T, ronnow_exp = sort(np.genfromtxt(r'data\\Babkevich_exp.txt',unpack=True),sort_by_y=True)\n",
    "T_mf, ronnow_fit = sort(np.genfromtxt(r'data\\Babkevich_mf_hf.txt',unpack=True))\n",
    "Chakraborty_hf_x, Chakraborty_hf_y = sort(np.genfromtxt(r'data\\Chakraborty_hf.txt',unpack=True))\n",
    "plt.close()\n",
    "fig=plt.figure(figsize=(6.22,4.8))\n",
    "\n",
    "\n",
    "\n",
    "xnew = np.linspace(T_mf.min(),T_mf.max(),300) #300 represents number of points to make between T.min and T.max\n",
    "spl = make_interp_spline(T_mf, ronnow_fit, k=2) #BSpline object\n",
    "ronnow_fit_smooth = spl(xnew)\n",
    "\n",
    "plt.plot(xnew,ronnow_fit_smooth,linestyle='-',mec='blue',color='blue',linewidth=3, label='Mean-field fit')\n",
    "\n",
    "plt.plot(T,ronnow_exp,marker='>',mec='indianred',mew=4,ms=14,mfc='none',linestyle='none',label='Experimant',clip_on=False)\n",
    "\n",
    "Chakraborty_hf_x_guide, Chakraborty_hf_y_guide = make_interp(Chakraborty_hf_x,Chakraborty_hf_y)\n",
    "chakraborty_hf_plt = plt.plot(Chakraborty_hf_x_guide, Chakraborty_hf_y_guide, '--', color='c')\n",
    "line=plt.plot(Chakraborty_hf_x, Chakraborty_hf_y, 's', fillstyle='none', label='QMC', mew=2,ms=8, color=chakraborty_hf_plt[0].get_color(),clip_on=False)\n",
    "\n",
    "# with mechanism\n",
    "res_w=np.array([[1.5698132428453369, 0.0021762680265496794, 0.0],\n",
    "                [1.5479361637185762, 0.00029061385640320823, 0.3],\n",
    "                [1.53414671227904, 0.0002879103947500188, 0.6],\n",
    "                [1.5050706238379528, 0.00046136481898499595, 1.0],\n",
    "                [1.4517850722328578, 0.0002808759623497347, 1.5],\n",
    "                [1.400964536947133, 0.0003757495990619571, 2.0]])\n",
    "\n",
    "# without mechanism\n",
    "res_wo = np.array([[1.7891913832602109, 0.0012514773767188612, 0.0],\n",
    "                    [1.7618809387654968, 0.00027637512067920614, 0.3],\n",
    "                    [1.749895194057172, 0.0003250831259745088, 0.6],\n",
    "                    [1.729067592486048, 0.0003512690046853762, 1.0],\n",
    "                    [1.696821594067994, 0.00036820610646323226, 1.5],\n",
    "                    [1.656074020255413, 0.000365283517175688, 2.0]])\n",
    "\n",
    "line1=plt.errorbar(res_w[:,0],res_w[:,2],xerr=res_w3[:,1],marker='x',linestyle='none', mew=3,ms=14, label='ODD terms included', clip_on=False, color='green')\n",
    "line2=plt.errorbar(res_wo[:,0],res_wo[:,2],xerr=res_wo[:,1],marker='x',linestyle='none', mew=3,ms=14, label='ODD terms excluded', clip_on=False)\n",
    "\n",
    "plt.ylabel(r'$\\mathrm{B_x}$ (T)',fontsize=12)\n",
    "plt.xlabel(r'T (K)',fontsize=12)\n",
    "lgnd=plt.legend(markerscale=0.6,prop={'size': 10})\n",
    "lgnd.legendHandles[2].set_linestyle('--')\n",
    "\n",
    "ax=plt.gca()\n",
    "from matplotlib.ticker import MaxNLocator\n",
    "ax.xaxis.set_major_locator(MaxNLocator(prune='lower'))\n",
    "ax.tick_params(labelsize=10)\n",
    "ax.set_xlim([0,2])\n",
    "ax.text(0.28, 0.4, 'Ferromagnet', transform=ax.transAxes, fontsize=12)\n",
    "ax.text(0.78, 0.55, 'Paramagnet', transform=ax.transAxes, fontsize=12)\n",
    "\n",
    "\n",
    "plt.margins(0)\n",
    "\n",
    "plt.tight_layout()\n",
    "# fig.savefig(r'figures\\phase_diagram.svg',format='svg')\n",
    "# fig.savefig(r'figures\\phase_diagram.eps',format='eps')\n",
    "# fig.savefig(r'figures\\phase_diagram.png',format='png')\n",
    "plt.show()"
   ]
  },
  {
   "cell_type": "code",
   "execution_count": 6,
   "metadata": {},
   "outputs": [],
   "source": [
    "%matplotlib qt"
   ]
  },
  {
   "cell_type": "code",
   "execution_count": 9,
   "metadata": {
    "scrolled": true
   },
   "outputs": [],
   "source": [
    "fig.savefig(r'figures\\phase_diagram.pdf',format='pdf')"
   ]
  },
  {
   "cell_type": "code",
   "execution_count": null,
   "metadata": {},
   "outputs": [],
   "source": []
  }
 ],
 "metadata": {
  "kernelspec": {
   "display_name": "Python 3",
   "language": "python",
   "name": "python3"
  },
  "language_info": {
   "codemirror_mode": {
    "name": "ipython",
    "version": 3
   },
   "file_extension": ".py",
   "mimetype": "text/x-python",
   "name": "python",
   "nbconvert_exporter": "python",
   "pygments_lexer": "ipython3",
   "version": "3.7.7"
  }
 },
 "nbformat": 4,
 "nbformat_minor": 2
}
