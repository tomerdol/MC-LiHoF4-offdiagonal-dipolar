{
 "cells": [
  {
   "cell_type": "markdown",
   "metadata": {},
   "source": [
    "# Calculates the energy for 2 ions under crystal field, given (Bx,By,Bz) and dipolar interaction\n",
    "\n",
    "### Uses:\n",
    "* Compare $\\langle J^z \\rangle$ vs. $H_x$ for 2 ions with and without $xx$, $yy$, $xy$, $yx$ terms of the dipolar interaction\n",
    "* Check (using curve fitting) the functional dependence of $\\langle J^z \\rangle$ vs. $H_x$. Compare parabolic vs. quadratic."
   ]
  },
  {
   "cell_type": "code",
   "execution_count": 1,
   "metadata": {
    "scrolled": true
   },
   "outputs": [],
   "source": [
    "import numpy as np\n",
    "from numpy import linalg as LA\n",
    "import math\n",
    "import sys\n",
    "from matplotlib import pyplot as plt\n",
    "import itertools"
   ]
  },
  {
   "cell_type": "code",
   "execution_count": 2,
   "metadata": {},
   "outputs": [],
   "source": [
    "%matplotlib qt"
   ]
  },
  {
   "cell_type": "code",
   "execution_count": 2,
   "metadata": {},
   "outputs": [],
   "source": [
    "#constants\n",
    "hbar = 1\n",
    "J=8\n",
    "deg_J = 2 * J + 1\n",
    "g_L = 5/4 # Lande g-factor\n",
    "# u_B = 0.6717 # Bohr magneton\n",
    "a=5.175*10**-10\n",
    "c=10.75*10**-10\n",
    "# mu0_over_4pi=10**-7\n",
    "mu0=0.2428284177e4\n",
    "u_B=0.3462955026e-4\n",
    "# k_B=1.380649*10**-23\n",
    "k_B=0.0515540067e-3"
   ]
  },
  {
   "cell_type": "code",
   "execution_count": 3,
   "metadata": {},
   "outputs": [],
   "source": [
    "# J matrices\n",
    "jplus = hbar * np.diag(np.array( [ math.sqrt(J*(J+1) - m*(m+1)) for m in np.arange(-J,J) ] ), 1)\n",
    "jminus = hbar * np.diag(np.array( [ math.sqrt(J*(J+1) - m*(m-1)) for m in np.arange(-J+1,J+1) ] ),-1)\n",
    "jx = (jplus + jminus) * 0.5\n",
    "jy = (jplus - jminus) * (-0.5j)\n",
    "jz = hbar * np.diag(np.arange(-J,J+1))\n",
    "I_J = np.diag(np.ones(int(round(deg_J))))"
   ]
  },
  {
   "cell_type": "code",
   "execution_count": 4,
   "metadata": {},
   "outputs": [],
   "source": [
    "# crystal field equivalent operators\n",
    "O02 = 3 * LA.matrix_power(jz,2) - J*(J+1)*I_J\n",
    "O04 = 35 * LA.matrix_power(jz,4) - 30 * J * (J+1) * LA.matrix_power(jz,2) + 25*LA.matrix_power(jz,2) - 6 * J * (J+1) * I_J + 3 * J**2 * (J+1)**2 * I_J\n",
    "O44C = 0.5 * (LA.matrix_power(jplus,4) + LA.matrix_power(jminus,4))\n",
    "O06 = 231 * LA.matrix_power(jz,6) - 315*J*(J+1)*LA.matrix_power(jz,4) + 735*LA.matrix_power(jz,4) + 105 * J**2 * (J+1)**2 * LA.matrix_power(jz,2) - 525*J*(J+1)*LA.matrix_power(jz,2) + 294*LA.matrix_power(jz,2) - 5 * J**3 * (J+1)**3 * I_J + 40 * J**2 *(J+1)**2 * I_J - 60*J*(J+1)*I_J\n",
    "O46C1 = 0.25 * (LA.matrix_power(jplus,4) + LA.matrix_power(jminus,4)) @ (11*LA.matrix_power(jz,2) - J*(J+1)*I_J - 38*I_J)\n",
    "O46S1 = -0.25j * (LA.matrix_power(jplus,4) - LA.matrix_power(jminus,4)) @ (11 * LA.matrix_power(jz,2) - J*(J+1)*I_J - 38*I_J)\n",
    "O46C = O46C1 + np.transpose(np.conj(O46C1))\n",
    "O46S = O46S1 + np.transpose(np.conj(O46S1))"
   ]
  },
  {
   "cell_type": "code",
   "execution_count": 5,
   "metadata": {},
   "outputs": [],
   "source": [
    "# crystal field parameters\n",
    "B02 = -0.696\n",
    "B04 = 4.06e-3\n",
    "B06 =  4.64e-6\n",
    "B44C = 0.0418\n",
    "B46C = 8.12e-4\n",
    "B46S = 1.137e-4"
   ]
  },
  {
   "cell_type": "code",
   "execution_count": 6,
   "metadata": {},
   "outputs": [],
   "source": [
    "# crystal field Hamiltonian\n",
    "H_cf = B02*O02 + B04*O04 + B06*O06 + B44C*O44C + B46C*O46C + B46S*O46S"
   ]
  },
  {
   "cell_type": "markdown",
   "metadata": {},
   "source": [
    "## Single run: give (Bx,By,Bz)"
   ]
  },
  {
   "cell_type": "code",
   "execution_count": 106,
   "metadata": {},
   "outputs": [],
   "source": [
    "# create dipolar interaction\n",
    "def dipolar_int(r, m, n):\n",
    "    return ((1 if m==n else 0)*LA.norm(r)**2 - 3*(r[m])*(r[n]))/LA.norm(r)**5\n",
    "\n",
    "# relative location of the two ions\n",
    "r=[a/2,0,c/4]"
   ]
  },
  {
   "cell_type": "code",
   "execution_count": 7,
   "metadata": {},
   "outputs": [],
   "source": [
    "# int_table = np.array([[-4.571443122909957E-19,-4.320262326949886E-19,2.9835473291874735],\n",
    "#                         [1.9548866539632312E-16,8.422043478184144E-17,-4.3116276077959],\n",
    "#                         [2.724444833807359E-17,2.977950427134481E-17,-5.631301873053044],\n",
    "#                         [-3.693130513476026E-17,5.749197707653294E-16,-4.3116276077959],\n",
    "#                         [-4.571443122909957E-19,-4.320262326949886E-19,2.9835473291874735],\n",
    "#                         [-2.010353222792296E-17,2.2554084800166757E-16,-4.311627607795901],\n",
    "#                         [2.724444833807359E-17,2.977950427134481E-17,-5.631301873053044],\n",
    "#                         [-4.571443122909957E-19,-4.320262326949886E-19,2.9835473291874735],\n",
    "#                         [1.9549333285205303E-16,8.422043478184144E-17,-4.3116276077959],\n",
    "#                         [-4.571443122909957E-19,-4.320262326949886E-19,2.9835473291874735]])\n",
    "int_table = np.array([[-0.0000000000,-0.0000000000,2.9835473292],\n",
    "[0.0000000000,0.0000000000,-4.3116276078],\n",
    "[0.0000000000,0.0000000000,-5.6313018731],\n",
    "[-0.0000000000,0.0000000000,-4.3116276078],\n",
    "[-0.0000000000,-0.0000000000,2.9835473292],\n",
    "[-0.0000000000,0.0000000000,-4.3116276078],\n",
    "[0.0000000000,0.0000000000,-5.6313018731],\n",
    "[-0.0000000000,-0.0000000000,2.9835473292],\n",
    "[0.0000000000,0.0000000000,-4.3116276078],\n",
    "[-0.0000000000,-0.0000000000,2.9835473292]])\n",
    "res=[]\n",
    "for mu in range(3):\n",
    "    b=np.zeros((4,4))\n",
    "    b[np.triu_indices(4)]=int_table[:,mu]\n",
    "    res.append(np.tril(b.T,-1) + b)\n",
    "int_table = np.array(res)"
   ]
  },
  {
   "cell_type": "code",
   "execution_count": 8,
   "metadata": {},
   "outputs": [],
   "source": [
    "from scipy.sparse import csr_matrix,kron\n",
    "from scipy.sparse.linalg import eigsh"
   ]
  },
  {
   "cell_type": "code",
   "execution_count": 9,
   "metadata": {},
   "outputs": [],
   "source": [
    "H_cf_sparse=csr_matrix(H_cf)\n",
    "I_J_sparse=csr_matrix(I_J)"
   ]
  },
  {
   "cell_type": "code",
   "execution_count": 10,
   "metadata": {},
   "outputs": [],
   "source": [
    "def tensor_prod(A, B, C, D):\n",
    "    return kron(kron(kron(A,B,format='csr'),C,format='csr'),D,format='csr')"
   ]
  },
  {
   "cell_type": "code",
   "execution_count": 11,
   "metadata": {},
   "outputs": [],
   "source": [
    "H_cf4 = (tensor_prod(H_cf_sparse, I_J_sparse, I_J_sparse, I_J_sparse) \n",
    "          + tensor_prod(I_J_sparse, H_cf_sparse, I_J_sparse, I_J_sparse) \n",
    "          + tensor_prod(I_J_sparse, I_J_sparse, H_cf_sparse, I_J_sparse) \n",
    "          + tensor_prod(I_J_sparse, I_J_sparse, I_J_sparse, H_cf_sparse))"
   ]
  },
  {
   "cell_type": "code",
   "execution_count": 19,
   "metadata": {},
   "outputs": [],
   "source": [
    "H_int4 = csr_matrix((83521, 83521))\n",
    "ions = {0 : [tensor_prod(jx,I_J,I_J,I_J), tensor_prod(jy,I_J,I_J,I_J), tensor_prod(jz,I_J,I_J,I_J)],\n",
    "       1 : [tensor_prod(I_J,jx,I_J,I_J), tensor_prod(I_J,jy,I_J,I_J), tensor_prod(I_J,jz,I_J,I_J)],\n",
    "       2 : [tensor_prod(I_J,I_J,jx,I_J), tensor_prod(I_J,I_J,jy,I_J), tensor_prod(I_J,I_J,jz,I_J)],\n",
    "       3 : [tensor_prod(I_J,I_J,I_J,jx), tensor_prod(I_J,I_J,I_J,jy), tensor_prod(I_J,I_J,I_J,jz)]}\n",
    "for i in range(4):\n",
    "    for j in range(4):\n",
    "#         ((1/a**3)*k_B*mu0_over_4pi*\n",
    "        H_int4 += ( ((mu0*0.25/math.pi)/k_B)*(g_L*u_B)**2 * \n",
    "                   (0.5 if i==j else 1)*(int_table[2,i,j]*ions[i][2].multiply(ions[j][2])             # zz\n",
    "                    + int_table[0,i,j]*ions[i][0].multiply(ions[j][2])           # xz\n",
    "                       + int_table[0,i,j]*ions[i][2].multiply(ions[j][0])        # zx\n",
    "                    + int_table[1,i,j]*ions[i][1].multiply(ions[j][2])           # yz\n",
    "                       + int_table[1,i,j]*ions[i][2].multiply(ions[j][1])   ) )  # zy\n",
    "#         print('(%s,%s) : %s'%(i,j,(1/a**3)*k_B*mu0_over_4pi*(g_L*u_B)**2 * \n",
    "#                    int_table[2,i,j]))\n",
    "H_int4*=0.5"
   ]
  },
  {
   "cell_type": "code",
   "execution_count": 20,
   "metadata": {},
   "outputs": [
    {
     "data": {
      "text/plain": [
       "1"
      ]
     },
     "execution_count": 20,
     "metadata": {},
     "output_type": "execute_result"
    }
   ],
   "source": [
    "i=1\n",
    "j=2\n",
    "(0.5 if i==j else 1)"
   ]
  },
  {
   "cell_type": "code",
   "execution_count": 22,
   "metadata": {},
   "outputs": [
    {
     "name": "stdout",
     "output_type": "stream",
     "text": [
      "0.0 -247.20689545754783\n",
      "0.0 (-0.03524838952036259-1.161621198677157e-17j)\n"
     ]
    }
   ],
   "source": [
    "Bx = 0.0\n",
    "By = 0.0\n",
    "Bz = 0.0\n",
    "H_zeeman4 = csr_matrix((83521, 83521))\n",
    "for i in range(4):\n",
    "    H_zeeman4 += -g_L* 0.6717 * (Bx * ions[i][0] + By * ions[i][1] + Bz * ions[i][2])\n",
    "H_full4 = H_cf4 + H_int4 + H_zeeman4\n",
    "eigenvalues, eigenstates = eigsh(H_full4,k=16,which='SA')\n",
    "beta=1/1.53\n",
    "Jz = ions[0][2] + ions[1][2] + ions[2][2] + ions[3][2]\n",
    "energy = np.average(eigenvalues,weights=np.exp(-beta*eigenvalues))\n",
    "magnetization = np.average(np.diagonal(np.conj(eigenstates.T) @ Jz @ eigenstates),weights=np.exp(-beta*eigenvalues))\n",
    "print(Bx, energy/4)\n",
    "print(Bx, magnetization)"
   ]
  },
  {
   "cell_type": "code",
   "execution_count": 31,
   "metadata": {},
   "outputs": [],
   "source": [
    "magnetization = np.average(np.diagonal(np.conj(eigenstates.T) @ Jz @ eigenstates),weights=np.exp(-beta*eigenvalues))"
   ]
  },
  {
   "cell_type": "code",
   "execution_count": 32,
   "metadata": {},
   "outputs": [
    {
     "data": {
      "text/plain": [
       "(0.02663566656879611-1.2457539033678776e-16j)"
      ]
     },
     "execution_count": 32,
     "metadata": {},
     "output_type": "execute_result"
    }
   ],
   "source": [
    "magnetization"
   ]
  },
  {
   "cell_type": "code",
   "execution_count": null,
   "metadata": {},
   "outputs": [],
   "source": [
    "# Magnetic field Zeeman term\n",
    "Bx = 0.0\n",
    "By = 0.0\n",
    "Bz = 0.0\n",
    "\n",
    "Jz = ions[0][2] + ions[1][2] + ions[2][2] + ions[3][2]\n",
    "\n",
    "res_energy=[]\n",
    "res_magnetization=[]\n",
    "\n",
    "for bx in np.linspace(0,2):\n",
    "    H_zeeman4 = csr_matrix((83521, 83521))\n",
    "    for i in range(4):\n",
    "        H_zeeman4 += -g_L*u_B * (bx * ions[i][0] + By * ions[i][1] + Bz * ions[i][2])\n",
    "    H_full4 = H_cf4 + H_int4 + H_zeeman4\n",
    "    eigenvalues, eigenstates = eigsh(H_full4,k=16,which='SA')\n",
    "    beta=1/1.53\n",
    "    energy = np.average(eigenvalues,weights=np.exp(-beta*eigenvalues))\n",
    "    magnetization = np.average(np.real(np.diagonal(np.conj(eigenstates.T) @ Jz @ eigenstates)),weights=np.exp(-beta*eigenvalues))\n",
    "    res_energy.append(energy/4)\n",
    "    res_magnetization.append(magnetization)\n",
    "    print(bx, energy/4, np.real(magnetization))\n",
    "res_energy=np.array(res_energy)\n",
    "res_magnetization=np.array(res_magnetization)"
   ]
  },
  {
   "cell_type": "code",
   "execution_count": null,
   "metadata": {},
   "outputs": [],
   "source": [
    "np.savez('energy.npz',np.linspace(0,2),res)"
   ]
  },
  {
   "cell_type": "code",
   "execution_count": 173,
   "metadata": {},
   "outputs": [],
   "source": [
    "mc_res=np.array([[0.0, -247.218],\n",
    "[0.04081633, -247.193],\n",
    "[0.08163265, -247.181],\n",
    "[0.12244898, -247.207],\n",
    "[0.16326531, -247.18],\n",
    "[0.20408163, -247.222],\n",
    "[0.24489796, -247.211],\n",
    "[0.28571429, -247.22]])"
   ]
  },
  {
   "cell_type": "code",
   "execution_count": 171,
   "metadata": {},
   "outputs": [
    {
     "data": {
      "text/plain": [
       "array([0.        , 0.04081633, 0.08163265, 0.12244898, 0.16326531])"
      ]
     },
     "execution_count": 171,
     "metadata": {},
     "output_type": "execute_result"
    }
   ],
   "source": [
    "mc_res[:,0]"
   ]
  },
  {
   "cell_type": "code",
   "execution_count": null,
   "metadata": {},
   "outputs": [],
   "source": [
    "plt.plot(np.linspace(0,2),res,marker='o',linestyle='none',fillstyle='none')\n",
    "plt.plot(mc_res[:,0],mc_res[:,1], marker='D',linestyle='none',fillstyle='none')"
   ]
  },
  {
   "cell_type": "code",
   "execution_count": 33,
   "metadata": {},
   "outputs": [],
   "source": [
    "H_full4 = H_cf4 + H_int4 + H_zeeman4"
   ]
  },
  {
   "cell_type": "code",
   "execution_count": 41,
   "metadata": {},
   "outputs": [],
   "source": [
    "eigenvalues = eigsh(H_full4,which='SA')[0]"
   ]
  },
  {
   "cell_type": "code",
   "execution_count": 42,
   "metadata": {},
   "outputs": [],
   "source": [
    "beta=1/1.53\n",
    "energy = np.average(eigenvalues,weights=np.exp(-beta*eigenvalues))"
   ]
  },
  {
   "cell_type": "code",
   "execution_count": 43,
   "metadata": {},
   "outputs": [
    {
     "data": {
      "text/plain": [
       "-245.96061122135228"
      ]
     },
     "execution_count": 43,
     "metadata": {},
     "output_type": "execute_result"
    }
   ],
   "source": [
    "energy/4"
   ]
  },
  {
   "cell_type": "markdown",
   "metadata": {},
   "source": [
    "## Plot energy levels"
   ]
  },
  {
   "cell_type": "code",
   "execution_count": 13,
   "metadata": {},
   "outputs": [],
   "source": [
    "# total spin\n",
    "plt.plot(np.real(np.diagonal(np.conj(v.T)@(np.kron(I_J,jz)+np.kron(jz,I_J))@v))[:4],w[:4],'k_')\n",
    "plt.show()"
   ]
  },
  {
   "cell_type": "code",
   "execution_count": 14,
   "metadata": {
    "scrolled": true
   },
   "outputs": [],
   "source": [
    "# one ion spin\n",
    "plt.plot(np.real(np.diagonal(np.conj(v.T)@(np.kron(I_J,jz))@v))[:4],w[:4],'k_')\n",
    "plt.show()"
   ]
  },
  {
   "cell_type": "code",
   "execution_count": 15,
   "metadata": {},
   "outputs": [],
   "source": [
    "# other ion spin\n",
    "plt.plot(np.real(np.diagonal(np.conj(v.T)@(np.kron(jz,I_J))@v))[:4],w[:4],'k_')\n",
    "plt.show()"
   ]
  },
  {
   "cell_type": "markdown",
   "metadata": {},
   "source": [
    "## Calculate & plot $\\langle J^z \\rangle$ vs. $H_x$ with and without $xx$, $yy$, etc. terms"
   ]
  },
  {
   "cell_type": "code",
   "execution_count": 146,
   "metadata": {},
   "outputs": [],
   "source": [
    "res_energy_up=[]\n",
    "res_energy_down=[]\n",
    "res_magnetic_moment_up=[]\n",
    "res_magnetic_moment_down=[]\n",
    "all_energies=[]\n",
    "magnetic_moment_all_int=[]\n",
    "energies_all_int=[]\n",
    "magnetic_moment_no_xxyy=[]\n",
    "energies_no_xxyy=[]\n",
    "energies_up_single=[]\n",
    "energies_down_single=[]\n",
    "magnetic_moments_up_single=[]\n",
    "magnetic_moments_down_single=[]\n",
    "SxSz_exp_val1=[]\n",
    "SxSz_exp_val2=[]\n",
    "\n",
    "Bx=np.linspace(-.5,.5,num=300)\n",
    "for bx in Bx:\n",
    "    H_zeeman = u_B*g_L*(bx*jx + By*jy + Bz*jz)    # zeeman term\n",
    "    H1 = H_cf2 + H_int_all - np.kron(H_zeeman,I_J) - np.kron(I_J,H_zeeman)    # full hamiltonian\n",
    "    H2 = H_cf2 + H_int_no_xxyy - np.kron(H_zeeman,I_J) - np.kron(I_J,H_zeeman)    # full hamiltonian\n",
    "    w,v = LA.eigh(H1)\n",
    "#     all_energies.append(w)\n",
    "    # initially assume lower level is up and upper is down\n",
    "    energy_up_single = w[0]\n",
    "    energy_down_single = w[1]\n",
    "    magnetic_moment_up_single = np.real(np.diagonal(np.conj(v.T)@np.kron(I_J,jz)@v)[0])\n",
    "    magnetic_moment_down_single = np.real(np.diagonal(np.conj(v.T)@np.kron(I_J,jz)@v)[1])\n",
    "    if (magnetic_moment_up_single < magnetic_moment_down_single):\n",
    "        # switch moments\n",
    "        temp = magnetic_moment_up_single\n",
    "        magnetic_moment_up_single = magnetic_moment_down_single\n",
    "        magnetic_moment_down_single = temp\n",
    "        # switch energies\n",
    "        temp = energy_up_single\n",
    "        energy_up_single = energy_down_single\n",
    "        energy_down_single = temp\n",
    "    energies_up_single.append(energy_up_single)\n",
    "    energies_down_single.append(energy_down_single)\n",
    "    magnetic_moments_up_single.append(magnetic_moment_up_single)\n",
    "    magnetic_moments_down_single.append(magnetic_moment_down_single)\n",
    "    magnetic_moment_all_int.append(np.real(np.diagonal(np.conj(v.T)@(np.kron(I_J,jz)+np.kron(jz,I_J))@v)))\n",
    "    #+np.kron(jz,I_J)\n",
    "    energies_all_int.append(w)\n",
    "    w,v = LA.eigh(H2)\n",
    "    magnetic_moment_no_xxyy.append(np.real(np.diagonal(np.conj(v.T)@(np.kron(I_J,jz)+np.kron(jz,I_J))@v)))\n",
    "    energies_no_xxyy.append(w)\n",
    "    SxSz_exp_val1.append(np.real(np.diagonal(np.conj(v.T)@(np.kron(jx,I_J))@v)))\n",
    "    SxSz_exp_val2.append(np.real(np.diagonal(np.conj(v.T)@(np.kron(jz,I_J))@v)))\n",
    "    \n",
    "SxSz_exp_val1 = np.array(SxSz_exp_val1)\n",
    "SxSz_exp_val2 = np.array(SxSz_exp_val2)\n",
    "magnetic_moments_up_single = np.array(magnetic_moments_up_single)\n",
    "magnetic_moments_down_single = np.array(magnetic_moments_down_single)\n",
    "energies_up_single = np.array(energies_up_single)\n",
    "energies_down_single = np.array(energies_down_single)\n",
    "energy_up_arr = np.array(res_energy_up)\n",
    "energy_down_arr = np.array(res_energy_down)\n",
    "magnetic_moment_up_arr = np.array(res_magnetic_moment_up)\n",
    "magnetic_moment_down_arr = np.array(res_magnetic_moment_down)\n",
    "magnetic_moment_all_int = np.array(magnetic_moment_all_int)\n",
    "magnetic_moment_no_xxyy = np.array(magnetic_moment_no_xxyy)\n",
    "energies_all_int = np.array(energies_all_int)\n",
    "energies_no_xxyy = np.array(energies_no_xxyy)"
   ]
  },
  {
   "cell_type": "code",
   "execution_count": 116,
   "metadata": {},
   "outputs": [],
   "source": [
    "# plotting\n",
    "\n",
    "# fig=plt.figure(figsize=(12,8), dpi= 100, facecolor='w', edgecolor='k')\n",
    "level=4\n",
    "# lineObjects_no_xxyy = plt.plot(Bx,magnetic_moment_no_xxyy[:,0]);\n",
    "# lineObjects_all_int = plt.plot(Bx,magnetic_moment_all_int[:,0],'--');\n",
    "\n",
    "# plt.plot(Bx,(magnetic_moment_no_xxyy[:,:4]-magnetic_moment_all_int[:,:4])/magnetic_moment_no_xxyy[:,:4])\n",
    "lineObjects_all_int = plt.plot(Bx,energies_all_int[:,:2])\n",
    "lineObjects_no_xxyy = plt.plot(Bx,energies_no_xxyy[:,:2])\n",
    "# plt.legend(iter(lineObjects_all_int+lineObjects_no_xxyy), itertools.product(['+','-'],range(level)))\n",
    "# plt.hlines(magnetic_moment_no_xxyy[-1,:4],-1,1.1)\n",
    "plt.ylabel(r'<$J_z$>');\n",
    "plt.xlabel(r'$H_x$');\n",
    "# np.max((magnetic_moment_no_xxyy[:,:4]-magnetic_moment_all_int[:,:4])/magnetic_moment_no_xxyy[:,:4])\n",
    "# plt.plot(Bx,magnetic_moment_up_arr);"
   ]
  },
  {
   "cell_type": "markdown",
   "metadata": {},
   "source": [
    "### Find peak value"
   ]
  },
  {
   "cell_type": "code",
   "execution_count": 112,
   "metadata": {},
   "outputs": [
    {
     "name": "stdout",
     "output_type": "stream",
     "text": [
      "-0.17800367800367806\n"
     ]
    }
   ],
   "source": [
    "# used to find the peak locattion of the <J_z> vs. H_x curve.\n",
    "# when the two ions are directly one above the other the peak should be at H_x=0\n",
    "# when the two ions are offset along, say, the x-axis, the peak moves slightly.\n",
    "# this movement should correspond to the effective transverse magnetic field exerted one on the other by the two ions.\n",
    "# this cell find the peak location.\n",
    "# when run with r=[0,0,c] the printed value should be effectively zero.\n",
    "# when run with r=[a,0,c] the printed value should be equal to the effective field, calculated in the next cell.\n",
    "# notice the Bx range must be set such that the peak is actually included!\n",
    "\n",
    "from scipy.interpolate import interp1d\n",
    "f_all_int = interp1d(Bx, magnetic_moment_all_int[:,0], kind = 'cubic')\n",
    "Bx_new = np.linspace(Bx[0], Bx[-1],1000000)\n",
    "print(Bx_new[np.argmax(f_all_int(Bx_new))])"
   ]
  },
  {
   "cell_type": "code",
   "execution_count": 90,
   "metadata": {},
   "outputs": [],
   "source": [
    "# plot peak\n",
    "plt.plot(Bx_new, f_all_int(Bx_new))\n",
    "plt.plot(Bx_new[np.argmax(f_all_int(Bx_new))],f_all_int(Bx_new[np.argmax(f_all_int(Bx_new))]), 'rx')\n",
    "plt.grid()\n",
    "plt.xlabel(r'$H_x$');\n",
    "plt.ylabel(r'<$J_z$>');"
   ]
  },
  {
   "cell_type": "markdown",
   "metadata": {},
   "source": [
    "### Internal transverse field"
   ]
  },
  {
   "cell_type": "code",
   "execution_count": 114,
   "metadata": {},
   "outputs": [
    {
     "data": {
      "text/plain": [
       "0.18439233988686662"
      ]
     },
     "execution_count": 114,
     "metadata": {},
     "output_type": "execute_result"
    }
   ],
   "source": [
    "# internal transverse field exerted by each of the ions on the other ion.\n",
    "-5.51*k_B*mu0_over_4pi*g_L*u_B*(-3*r[0]*r[2])/LA.norm(r)**5"
   ]
  },
  {
   "cell_type": "markdown",
   "metadata": {},
   "source": [
    "## Fit parabola and quadratic function to $\\langle J^z \\rangle$ vs. $H_x$ curve"
   ]
  },
  {
   "cell_type": "code",
   "execution_count": 68,
   "metadata": {},
   "outputs": [],
   "source": [
    "def parabola(x, a, c):\n",
    "    return a * x**2 + c\n",
    "def quad(x, a, c):\n",
    "    return a * x**4 + c"
   ]
  },
  {
   "cell_type": "code",
   "execution_count": 69,
   "metadata": {},
   "outputs": [],
   "source": [
    "def r_squared(xdata, ydata, f, popt):\n",
    "    residuals = ydata- f(xdata, *popt)\n",
    "    ss_res = np.sum(residuals**2)\n",
    "    ss_tot = np.sum((ydata-np.mean(ydata))**2)\n",
    "    r_squared = 1 - (ss_res / ss_tot)\n",
    "    \n",
    "    return r_squared"
   ]
  },
  {
   "cell_type": "code",
   "execution_count": 70,
   "metadata": {},
   "outputs": [
    {
     "name": "stdout",
     "output_type": "stream",
     "text": [
      "quad fit R^2 = 0.382\n",
      "parabola fit R^2 = 0.394\n"
     ]
    }
   ],
   "source": [
    "from scipy.optimize import curve_fit\n",
    "ydata=magnetic_moment_all_int[:,0]\n",
    "xdata=Bx\n",
    "poptquad, pcovquad = curve_fit(quad, xdata, ydata,p0=[1,11])\n",
    "poptparab, pcovparab = curve_fit(parabola, xdata, ydata,p0=[1,11])\n",
    "\n",
    "print('quad fit R^2 = %5.3f' % r_squared(xdata, ydata, quad, poptquad))\n",
    "print('parabola fit R^2 = %5.3f' % r_squared(xdata, ydata, parabola, poptparab))"
   ]
  },
  {
   "cell_type": "code",
   "execution_count": 24,
   "metadata": {},
   "outputs": [],
   "source": [
    "# plot\n",
    "plt.plot(xdata, ydata, 'b.', label='data')\n",
    "plt.plot(xdata, quad(xdata, *poptquad), 'g-',label=r'$a x^4 + c$ fit: a=%5.3f, c=%5.3f ($R^2$=%5.3f)' % tuple(list(poptquad)+[r_squared(xdata, ydata, quad, poptquad)]))\n",
    "plt.plot(xdata, parabola(xdata, *poptparab), 'r-',label=r'$a x^2 + c$ fit: a=%5.3f, c=%5.3f ($R^2$=%5.3f)' % tuple(list(poptparab)+[r_squared(xdata, ydata, parabola, poptparab)]))\n",
    "plt.xlabel(r'$H_x$')\n",
    "plt.ylabel(r'<$J_z$>');\n",
    "plt.legend();"
   ]
  },
  {
   "cell_type": "markdown",
   "metadata": {},
   "source": [
    "## How to express $S_i^z S_j^x$"
   ]
  },
  {
   "cell_type": "code",
   "execution_count": 137,
   "metadata": {},
   "outputs": [
    {
     "ename": "AttributeError",
     "evalue": "'list' object has no attribute 'size'",
     "output_type": "error",
     "traceback": [
      "\u001b[1;31m---------------------------------------------------------------------------\u001b[0m",
      "\u001b[1;31mAttributeError\u001b[0m                            Traceback (most recent call last)",
      "\u001b[1;32m<ipython-input-137-ca1a08202e47>\u001b[0m in \u001b[0;36m<module>\u001b[1;34m\u001b[0m\n\u001b[0;32m      1\u001b[0m \u001b[1;31m# Energy like it's calculated in the simulation\u001b[0m\u001b[1;33m\u001b[0m\u001b[1;33m\u001b[0m\u001b[1;33m\u001b[0m\u001b[0m\n\u001b[1;32m----> 2\u001b[1;33m \u001b[0mmagnetic_moments_up_single\u001b[0m\u001b[1;33m.\u001b[0m\u001b[0msize\u001b[0m\u001b[1;33m\u001b[0m\u001b[1;33m\u001b[0m\u001b[0m\n\u001b[0m",
      "\u001b[1;31mAttributeError\u001b[0m: 'list' object has no attribute 'size'"
     ]
    }
   ],
   "source": [
    "# Energy like it's calculated in the simulation\n",
    "magnetic_moments_up_single"
   ]
  },
  {
   "cell_type": "code",
   "execution_count": 129,
   "metadata": {},
   "outputs": [
    {
     "data": {
      "text/plain": [
       "0.18439233988686662"
      ]
     },
     "execution_count": 129,
     "metadata": {},
     "output_type": "execute_result"
    }
   ],
   "source": [
    "(-5.51*k_B*mu0_over_4pi*g_L*u_B*(-3*r[0]*r[2])/LA.norm(r)**5) * magnetic_moments_"
   ]
  },
  {
   "cell_type": "code",
   "execution_count": 147,
   "metadata": {},
   "outputs": [],
   "source": [
    "fig, ax1 = plt.subplots()\n",
    "\n",
    "color = 'tab:red'\n",
    "ax1.set_xlabel(r'$H_x$')\n",
    "ax1.set_ylabel(r'$\\langle J_x \\rangle$', color=color)\n",
    "ax1.plot(Bx, SxSz_exp_val1[:,0], color=color)\n",
    "ax1.tick_params(axis='y', labelcolor=color)\n",
    "\n",
    "ax2 = ax1.twinx()  # instantiate a second axes that shares the same x-axis\n",
    "\n",
    "color = 'tab:blue'\n",
    "ax2.set_ylabel(r'$\\langle J_z \\rangle$', color=color)  # we already handled the x-label with ax1\n",
    "ax2.plot(Bx, SxSz_exp_val2[:,0], color=color)\n",
    "ax2.tick_params(axis='y', labelcolor=color)\n",
    "\n",
    "fig.tight_layout()  # otherwise the right y-label is slightly clipped\n",
    "plt.show()\n",
    "\n"
   ]
  },
  {
   "cell_type": "code",
   "execution_count": null,
   "metadata": {},
   "outputs": [],
   "source": []
  }
 ],
 "metadata": {
  "kernelspec": {
   "display_name": "Python 3",
   "language": "python",
   "name": "python3"
  },
  "language_info": {
   "codemirror_mode": {
    "name": "ipython",
    "version": 3
   },
   "file_extension": ".py",
   "mimetype": "text/x-python",
   "name": "python",
   "nbconvert_exporter": "python",
   "pygments_lexer": "ipython3",
   "version": "3.7.7"
  }
 },
 "nbformat": 4,
 "nbformat_minor": 2
}
