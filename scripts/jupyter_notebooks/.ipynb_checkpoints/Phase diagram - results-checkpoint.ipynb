{
 "cells": [
  {
   "cell_type": "code",
   "execution_count": null,
   "metadata": {},
   "outputs": [],
   "source": [
    "import numpy as np\n",
    "from matplotlib import pyplot as plt\n",
    "import matplotlib\n",
    "from scipy.interpolate import make_interp_spline, BSpline"
   ]
  },
  {
   "cell_type": "code",
   "execution_count": null,
   "metadata": {},
   "outputs": [],
   "source": [
    "def sort(lst, sort_by_y=False):\n",
    "    if len(lst)==3:\n",
    "        x, y, err = lst\n",
    "    elif len(lst)==2:\n",
    "        x, y = lst\n",
    "        \n",
    "    if not sort_by_y:\n",
    "        p = x.argsort()\n",
    "    else:\n",
    "        p = y.argsort()\n",
    "    x=x[p]\n",
    "    y=y[p]\n",
    "    if len(lst)==3:\n",
    "        err=err[p]\n",
    "    \n",
    "    if len(lst)==3:\n",
    "        return (x,y,err)\n",
    "    elif len(lst)==2:\n",
    "        return (x,y)"
   ]
  },
  {
   "cell_type": "code",
   "execution_count": null,
   "metadata": {},
   "outputs": [],
   "source": [
    "def make_interp(x,y):\n",
    "    x,y = sort([x,y])\n",
    "    x_new = np.linspace(x.min(),x.max(),300) #300 represents number of points to make between T.min and T.max\n",
    "    spl = make_interp_spline(x, y, k=2) #BSpline object\n",
    "    y_smooth = spl(x_new)\n",
    "    return (x_new, y_smooth)"
   ]
  },
  {
   "cell_type": "code",
   "execution_count": null,
   "metadata": {
    "scrolled": true
   },
   "outputs": [],
   "source": [
    "T, ronnow_exp = sort(np.genfromtxt(r'data\\Babkevich_exp.txt',unpack=True),sort_by_y=True)\n",
    "T_mf, ronnow_fit = sort(np.genfromtxt(r'data\\Babkevich_mf_hf.txt',unpack=True))\n",
    "Chakraborty_hf_x, Chakraborty_hf_y = sort(np.genfromtxt(r'data\\Chakraborty_hf.txt',unpack=True))\n",
    "plt.close()\n",
    "fig=plt.figure(figsize=(6.22,4.8))\n",
    "\n",
    "\n",
    "\n",
    "xnew = np.linspace(T_mf.min(),T_mf.max(),300) #300 represents number of points to make between T.min and T.max\n",
    "spl = make_interp_spline(T_mf, ronnow_fit, k=2) #BSpline object\n",
    "ronnow_fit_smooth = spl(xnew)\n",
    "\n",
    "plt.plot(xnew,ronnow_fit_smooth,linestyle='-',mec='blue',color='C7',label='MF')\n",
    "\n",
    "plt.plot(T,ronnow_exp,marker='>',mec='mediumslateblue',mew=1.5,ms=7,mfc='none', fillstyle='none', linestyle='none',label='Experiment',clip_on=False)\n",
    "\n",
    "Chakraborty_hf_x_guide, Chakraborty_hf_y_guide = make_interp(Chakraborty_hf_x,Chakraborty_hf_y)\n",
    "chakraborty_hf_plt = plt.plot(Chakraborty_hf_x_guide, Chakraborty_hf_y_guide, '--', color='crimson')\n",
    "line=plt.plot(Chakraborty_hf_x, Chakraborty_hf_y, 's', fillstyle='none', label='QMC', color=chakraborty_hf_plt[0].get_color(),clip_on=False)\n",
    "\n",
    "# with mechanism\n",
    "res_w=np.array([[1.5735253431970313, 0.0003754630485703797, 0.0],\n",
    "                [1.5668430770172581, 0.00040229584596061276, 0.3],\n",
    "                [1.5528699011469382, 0.0004529928629107943, 0.6],\n",
    "                [1.522578491832026, 0.0005086570723183535, 1.0],\n",
    "                [1.4713199318011019, 0.0003732299749945284, 1.5]])\n",
    "\n",
    "# without mechanism\n",
    "res_wo = np.array([[1.7867525456894067, 0.0003346211519846263, 0.0],\n",
    "                    [1.7800032022680978, 0.00035150234855617726, 0.3],\n",
    "                    [1.7666844040658682, 0.0004942811009289669, 0.6],\n",
    "                    [1.7502147228261784, 0.0005489117177605709, 1.0],\n",
    "                    [1.7275073972460513, 0.0005268713490837303, 1.5]])\n",
    "\n",
    "\n",
    "line1=plt.errorbar(res_w[:,0],res_w[:,2],xerr=res_w[:,1],marker='x',linestyle='none', mew=2.5,ms=11, label='ODD terms included', clip_on=False, color='green')\n",
    "line2=plt.errorbar(res_wo[:,0],res_wo[:,2],xerr=res_wo[:,1],marker='+',linestyle='none', mew=2.5,ms=11, label='ODD terms excluded', clip_on=False, color='mediumblue')\n",
    "\n",
    "plt.ylabel(r'$\\mathrm{B_x}$ (T)',fontsize=14)\n",
    "plt.xlabel(r'T (K)',fontsize=14)\n",
    "# lgnd=plt.legend(markerscale=0.6,prop={'size': 10})\n",
    "lgnd=plt.legend()\n",
    "lgnd.legendHandles[2].set_linestyle('--')\n",
    "\n",
    "ax=plt.gca()\n",
    "ax.set_xlim([0,2])\n",
    "ax.text(0.1, 0.93, '(b)', transform=ax.transAxes, fontsize=14)\n",
    "ax.text(0.28, 0.4, 'Ferromagnet', transform=ax.transAxes, fontsize=12)\n",
    "ax.text(0.78, 0.55, 'Paramagnet', transform=ax.transAxes, fontsize=12)\n",
    "ax.locator_params(axis='x', nbins=6)\n",
    "ax.tick_params(axis='x', which='major', labelsize=12, direction=\"in\", pad=5)\n",
    "ax.tick_params(axis='y', which='major', labelsize=12, direction=\"in\")\n",
    "\n",
    "plt.margins(0)\n",
    "\n",
    "plt.tight_layout()\n",
    "plt.show()"
   ]
  },
  {
   "cell_type": "code",
   "execution_count": null,
   "metadata": {},
   "outputs": [],
   "source": [
    "%matplotlib inline"
   ]
  },
  {
   "cell_type": "code",
   "execution_count": null,
   "metadata": {
    "scrolled": true
   },
   "outputs": [],
   "source": [
    "fig.savefig(r'figures\\phase_diagram_results.pdf',format='pdf')"
   ]
  },
  {
   "cell_type": "code",
   "execution_count": null,
   "metadata": {},
   "outputs": [],
   "source": []
  }
 ],
 "metadata": {
  "kernelspec": {
   "display_name": "Python 3 (ipykernel)",
   "language": "python",
   "name": "python3"
  },
  "language_info": {
   "codemirror_mode": {
    "name": "ipython",
    "version": 3
   },
   "file_extension": ".py",
   "mimetype": "text/x-python",
   "name": "python",
   "nbconvert_exporter": "python",
   "pygments_lexer": "ipython3",
   "version": "3.10.4"
  }
 },
 "nbformat": 4,
 "nbformat_minor": 2
}
