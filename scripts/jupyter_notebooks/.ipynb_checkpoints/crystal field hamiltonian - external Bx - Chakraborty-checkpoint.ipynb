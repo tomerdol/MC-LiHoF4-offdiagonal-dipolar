{
 "cells": [
  {
   "cell_type": "markdown",
   "metadata": {},
   "source": [
    "# Derivation of effective spin-$\\frac{1}{2}$ Hamiltonian for LiHoF<sub>4</sub>\n",
    "### Performs projection of angular momentum operators onto the low energy subspace spanned by the Ho ion's 2 lowest-energy electronic states under the LiHoF<sub>4</sub> crystal field potential and an applied magnetic field in the x-direction\n",
    "Based on Chakraborty et al. \\[1\\] and explained in more detail by Tabei et al. \\[2\\].\n",
    "\n",
    "\\[1\\] P. B. Chakraborty, P. Henelius, H. Kjønsberg, A. W. Sandvik, and S. M. Girvin, Theory of the Magnetic Phase Diagram of Li Ho F 4, [Phys. Rev. B 70, 144411](https://link.aps.org/doi/10.1103/PhysRevB.70.144411) (2004).\\\n",
    "\\[2\\] S. M. A. Tabei, M. J. P. Gingras, Y.-J. Kao, and T. Yavors’kii, Perturbative Quantum Monte Carlo Study of LiHoF 4 in a Transverse Magnetic Field, [Phys. Rev. B 78, 184408](https://link.aps.org/doi/10.1103/PhysRevB.78.184408) (2008).\n"
   ]
  },
  {
   "cell_type": "code",
   "execution_count": null,
   "metadata": {
    "scrolled": true
   },
   "outputs": [],
   "source": [
    "import numpy as np\n",
    "from numpy import linalg as LA\n",
    "from scipy.sparse import linalg as sLA\n",
    "import matplotlib.pyplot as plt\n",
    "import math"
   ]
  },
  {
   "cell_type": "code",
   "execution_count": null,
   "metadata": {},
   "outputs": [],
   "source": [
    "#constants\n",
    "hbar = 1\n",
    "J=8\n",
    "deg_J = 2 * J + 1\n",
    "g_L = 5/4 # Lande g-factor\n",
    "u_B = 0.6717 # Bohr magneton"
   ]
  },
  {
   "cell_type": "code",
   "execution_count": null,
   "metadata": {},
   "outputs": [],
   "source": [
    "# J matrices\n",
    "jplus = hbar * np.diag(np.array( [ math.sqrt(J*(J+1) - m*(m+1)) for m in np.arange(-J,J) ] ), 1)\n",
    "jminus = hbar * np.diag(np.array( [ math.sqrt(J*(J+1) - m*(m-1)) for m in np.arange(-J+1,J+1) ] ),-1)\n",
    "jx = (jplus + jminus) * 0.5\n",
    "jy = (jplus - jminus) * (-0.5j)\n",
    "jz = hbar * np.diag(np.arange(-J,J+1))\n",
    "I_J = np.diag(np.ones(int(round(deg_J))))"
   ]
  },
  {
   "cell_type": "code",
   "execution_count": null,
   "metadata": {},
   "outputs": [],
   "source": [
    "# crystal field equivalent operators\n",
    "O02 = 3 * LA.matrix_power(jz,2) - J*(J+1)*I_J\n",
    "O04 = 35 * LA.matrix_power(jz,4) - 30 * J * (J+1) * LA.matrix_power(jz,2) + 25*LA.matrix_power(jz,2) - 6 * J * (J+1) * I_J + 3 * J**2 * (J+1)**2 * I_J\n",
    "O44C = 0.5 * (LA.matrix_power(jplus,4) + LA.matrix_power(jminus,4))\n",
    "O06 = 231 * LA.matrix_power(jz,6) - 315*J*(J+1)*LA.matrix_power(jz,4) + 735*LA.matrix_power(jz,4) + 105 * J**2 * (J+1)**2 * LA.matrix_power(jz,2) - 525*J*(J+1)*LA.matrix_power(jz,2) + 294*LA.matrix_power(jz,2) - 5 * J**3 * (J+1)**3 * I_J + 40 * J**2 *(J+1)**2 * I_J - 60*J*(J+1)*I_J\n",
    "O46C1 = 0.25 * (LA.matrix_power(jplus,4) + LA.matrix_power(jminus,4)) @ (11*LA.matrix_power(jz,2) - J*(J+1)*I_J - 38*I_J)\n",
    "O46S1 = -0.25j * (LA.matrix_power(jplus,4) - LA.matrix_power(jminus,4)) @ (11 * LA.matrix_power(jz,2) - J*(J+1)*I_J - 38*I_J)\n",
    "O46C = O46C1 + np.transpose(np.conj(O46C1))\n",
    "O46S = O46S1 + np.transpose(np.conj(O46S1))"
   ]
  },
  {
   "cell_type": "code",
   "execution_count": null,
   "metadata": {},
   "outputs": [],
   "source": [
    "# crystal field parameters\n",
    "B02 = -0.696\n",
    "B04 = 4.06e-3\n",
    "B06 =  4.64e-6\n",
    "B44C = 0.0418\n",
    "B46C = 8.12e-4\n",
    "B46S = 1.137e-4"
   ]
  },
  {
   "cell_type": "code",
   "execution_count": null,
   "metadata": {},
   "outputs": [],
   "source": [
    "# crystal field Hamiltonian\n",
    "H_cf = B02*O02 + B04*O04 + B06*O06 + B44C*O44C + B46C*O46C + B46S*O46S"
   ]
  },
  {
   "cell_type": "markdown",
   "metadata": {},
   "source": [
    "## Only Bx varies (same as in references)"
   ]
  },
  {
   "cell_type": "code",
   "execution_count": null,
   "metadata": {},
   "outputs": [],
   "source": [
    "# Magnetic field Zeeman term\n",
    "Bx = np.linspace(0.0,5.0, num=100)\n",
    "Bx=Bx+0.0\n",
    "By = 0\n",
    "Bz=0\n",
    "\n",
    "H_zeeman = [ -g_L * u_B * (Bx[i]*jx + By*jy + Bz*jz) for i in range(len(Bx)) ]"
   ]
  },
  {
   "cell_type": "code",
   "execution_count": null,
   "metadata": {},
   "outputs": [],
   "source": [
    "# full Hamiltonian\n",
    "H = [ ( H_cf + H_zeeman_x )for H_zeeman_x in H_zeeman ]\n",
    "\n",
    "H=np.array(H)\n",
    "assert np.allclose(H.transpose(0,2,1).conj(), H) # check Hermiticity"
   ]
  },
  {
   "cell_type": "code",
   "execution_count": null,
   "metadata": {
    "scrolled": true
   },
   "outputs": [],
   "source": [
    "## there is a problem with this calculation I could not pin down. Use the next cell instead.\n",
    "\n",
    "# diagonalization\n",
    "res=[]\n",
    "eigen_energies=[]\n",
    "for i, h in enumerate(H):\n",
    "    w,v = LA.eigh(h)\n",
    "    res.append(v.T)\n",
    "    eigen_energies.append(w)\n",
    "\n",
    "eigenstates=np.array(res)\n",
    "\n",
    "#print(eigenstates[0])\n",
    "for i, bx in enumerate(Bx):\n",
    "    alpha = eigenstates[i, 0, :]\n",
    "    beta = eigenstates[i, 1, :]\n",
    "#     print(np.conj(np.transpose(beta)) @ alpha)\n",
    "#     print(\"Bx=\" + str(bx) + \", energy=\"+str(beta))\n",
    "#     print(\"Bx=\" + str(bx) + \", energy=\"+str(eigen_energies[i][0]*alpha - H[i] @ alpha))\n",
    "    print(\"beta@jz@beta=\"+str(np.conj(np.transpose(beta)) @ jz @ beta))\n",
    "    print(\"alpha@jz@alpha=\"+str(np.conj(np.transpose(alpha)) @ jz @ alpha))\n",
    "    print(\"alpha@jz@beta=\"+str(np.conj(np.transpose(alpha)) @ jz @ beta))\n",
    "    print(\"beta@jz@alpha=\"+str(np.conj(np.transpose(beta)) @ jz @ alpha))\n",
    "    theta=np.angle(np.conj(np.transpose(beta)) @ jz @ alpha)\n",
    "    print('%s : %s'%(bx, theta))\n",
    "    eigenstates[i, 1, :] = (alpha + np.exp(1j*theta)*beta)/math.sqrt(2)\n",
    "    eigenstates[i, 0, :] = (alpha - np.exp(1j*theta)*beta)/math.sqrt(2)\n",
    "    up = eigenstates[i, 0, :]\n",
    "    down = eigenstates[i, 1, :]\n",
    "    print('up='+str(up))\n",
    "    print('down='+str(down))\n",
    "    print(\"down@jz@down=\"+str(np.conj(np.transpose(down)) @ jz @ down))\n",
    "    print(\"up@jz@up=\"+str(np.conj(np.transpose(up)) @ jz @ up))\n",
    "    print(\"up@jz@down=\"+str(np.conj(np.transpose(up)) @ jz @ down))\n",
    "    print(\"down@jz@up=\"+str(np.conj(np.transpose(down)) @ jz @ up))\n",
    "\n",
    "#print(eigenstates[0])\n",
    "# 1st index is H, 2nd index is eigenvalue number (from lowest to highest)\n",
    "change_of_basis_matrix_inverse=np.transpose(eigenstates,axes=(0,2,1))\n",
    "change_of_basis_matrix=LA.inv(change_of_basis_matrix_inverse)\n",
    "new_jz=change_of_basis_matrix @ jz @ change_of_basis_matrix_inverse\n",
    "new_jx=change_of_basis_matrix @ jx @ change_of_basis_matrix_inverse\n",
    "new_jy=change_of_basis_matrix @ jy @ change_of_basis_matrix_inverse\n",
    "\n",
    "#print(new_jz)\n",
    "\n",
    "upjzup=[]\n",
    "downjzdown=[]\n",
    "upjxup=[]\n",
    "downjxdown=[]\n",
    "upjyup=[]\n",
    "downjydown=[]\n",
    "upjzdown=[]\n",
    "downjzup=[]\n",
    "upjxdown=[]\n",
    "downjxup=[]\n",
    "upjydown=[]\n",
    "downjyup=[]\n",
    "\n",
    "for c in range(eigenstates.shape[0]):\n",
    "    upjzup.append(new_jz[c,0,0])    \n",
    "    downjzdown.append(new_jz[c,1,1])\n",
    "    upjxup.append(new_jx[c,0,0])\n",
    "    downjxdown.append(new_jx[c,1,1])\n",
    "    upjyup.append(new_jy[c,0,0])\n",
    "    downjydown.append(new_jy[c,1,1])\n",
    "    upjzdown.append(new_jz[c,0,1])\n",
    "    downjzup.append(new_jz[c,1,0])\n",
    "    upjxdown.append(new_jx[c,0,1])\n",
    "    downjxup.append(new_jx[c,1,0])\n",
    "    upjydown.append(new_jy[c,0,1])\n",
    "    downjyup.append(new_jy[c,1,0])\n",
    "    \n",
    "\n",
    "upjzup=np.array(upjzup)\n",
    "downjzdown=np.array(downjzdown)\n",
    "upjxup=np.array(upjxup)\n",
    "downjxdown=np.array(downjxdown)\n",
    "upjyup=np.array(upjyup)\n",
    "downjydown=np.array(downjydown)\n",
    "upjzdown=np.array(upjzdown)\n",
    "downjzup=np.array(downjzup)\n",
    "upjxdown=np.array(upjxdown)\n",
    "downjxup=np.array(downjxup)\n",
    "upjydown=np.array(upjydown)\n",
    "downjyup=np.array(downjyup)\n",
    "plt.close()\n",
    "#plt.plot(Bx,0.5*(eigenvalues[:,1]-eigenvalues[:,0]))\n",
    "plt.figure(figsize=(12,8))\n",
    "plt.plot(Bx,0.5*(upjzup-downjzdown),label=r'$C_{zz}$')\n",
    "plt.plot(Bx,0.5*(upjzup+downjzdown),label=r'$C_{z0}$')\n",
    "plt.plot(Bx,0.5*(upjzdown+downjzup),label=r'$C_{zx}$')\n",
    "# plt.plot(Bx,upjzdown,label='upjzdown')\n",
    "# plt.plot(Bx,downjzup,label='downjzup')\n",
    "plt.plot(Bx,-0.5j*(upjzdown-downjzup),label=r'$C_{zy}$')\n",
    "plt.plot(Bx,0.5*(upjxup+downjxdown),label=r'$C_{x0}$')\n",
    "plt.plot(Bx,-0.5j*(upjydown-downjyup),label=r'$C_{yy}$')\n",
    "plt.plot(Bx,0.5*(upjxdown+downjxup),label=r'$C_{xx}$')\n",
    "\n",
    "#np.set_printoptions(precision=5)\n",
    "#np.set_printoptions(suppress=True)\n",
    "#print(new_jz)\n",
    "#print(part_new_jx[:,:,0])\n",
    "plt.legend()\n",
    "plt.xlabel(r'$B_x$')\n",
    "plt.ylabel(r'$C_{\\mu\\nu}$')\n",
    "plt.show()"
   ]
  },
  {
   "cell_type": "code",
   "execution_count": null,
   "metadata": {},
   "outputs": [],
   "source": [
    "### diagonalization\n",
    "res=[]\n",
    "eigen_energies=[]\n",
    "for i, h in enumerate(H):\n",
    "    w,v = LA.eigh(h)\n",
    "    res.append(v.T)\n",
    "    eigen_energies.append(w)\n",
    "\n",
    "eigenstates1=np.array(res)\n",
    "# 1st index is H, 2nd index is eigenvalue number (from lowest to highest)\n",
    "change_of_basis_matrix_inverse=np.transpose(eigenstates1,axes=(0,2,1))\n",
    "change_of_basis_matrix=LA.inv(change_of_basis_matrix_inverse)\n",
    "new_jz=change_of_basis_matrix @ jz @ change_of_basis_matrix_inverse\n",
    "new_jx=change_of_basis_matrix @ jx @ change_of_basis_matrix_inverse\n",
    "new_jy=change_of_basis_matrix @ jy @ change_of_basis_matrix_inverse\n",
    "\n",
    "# print(np.matrix(new_jz))\n",
    "\n",
    "part_new_jz=np.array(((new_jz[:,0,0],new_jz[:,0,1]),(new_jz[:,1,0],new_jz[:,1,1])))\n",
    "part_new_jx=np.array(((new_jx[:,0,0],new_jx[:,0,1]),(new_jx[:,1,0],new_jx[:,1,1])))\n",
    "part_new_jy=np.array(((new_jy[:,0,0],new_jy[:,0,1]),(new_jy[:,1,0],new_jy[:,1,1])))\n",
    "\n",
    "eigenvalues=[]\n",
    "eigenstates=[]\n",
    "\n",
    "j=0\n",
    "for part_new_jz_i in part_new_jz.transpose(2,0,1):\n",
    "#     print(\"part_new_jz_i\")\n",
    "#     print(part_new_jz_i)\n",
    "    w1,v1 = LA.eigh(part_new_jz_i)\n",
    "    eigenvalues.append(w1)\n",
    "#     print('Bx='+str(Bx[j]))\n",
    "#     j+=1\n",
    "    for i in range(v1.T[:,0].size):\n",
    "        v1.T[i,:]*=np.exp(-1j*np.angle(v1.T[i,0]))\n",
    "#     print(np.angle(v1.T))\n",
    "#     print(np.abs(v1.T))\n",
    "    eigenstates.append(v1)\n",
    "\n",
    "    \n",
    "# # checks:\n",
    "# alpha = eigenstates1[0, 0, :]\n",
    "# beta = eigenstates1[0, 1, :]\n",
    "# up_coord=v1[:,0]\n",
    "# down_coord=v1[:,1]\n",
    "# print('up_coord='+str(np.angle(up_coord)))\n",
    "# print('down_coord='+str(np.angle(down_coord)))\n",
    "# up=up_coord[0]*alpha + up_coord[1]*beta\n",
    "# down=down_coord[0]*alpha + down_coord[1]*beta\n",
    "# print('up='+str(up))\n",
    "# print('down='+str(down))\n",
    "# print(\"up@down=\"+str(np.conj(np.transpose(up)) @ down))\n",
    "# # print(\"up@jz@down=\"+str(np.conj(np.transpose(up)) @ jz @ down))\n",
    "# # print(\"down@jz@up=\"+str(np.conj(np.transpose(down)) @ jz @ up))\n",
    "# # print(\"down@jz@down=\"+str(np.conj(np.transpose(down)) @ jz @ down))\n",
    "# # print(\"up@jz@up=\"+str(np.conj(np.transpose(up)) @ jz @ up))\n",
    "    \n",
    "eigenvalues=np.array(eigenvalues)\n",
    "eigenstates=np.array(eigenstates)\n",
    "\n",
    "upjzup=[]\n",
    "downjzdown=[]\n",
    "upjxup=[]\n",
    "downjxdown=[]\n",
    "upjyup=[]\n",
    "downjydown=[]\n",
    "upjzdown=[]\n",
    "downjzup=[]\n",
    "upjxdown=[]\n",
    "downjxup=[]\n",
    "upjydown=[]\n",
    "downjyup=[]\n",
    "\n",
    "for c in range(eigenstates.shape[0]):\n",
    "    upjzup.append(np.conj(eigenstates[c,:,0].T) @ part_new_jz.transpose(2,0,1)[c] @ eigenstates[c,:,0])\n",
    "    downjzdown.append(np.conj(eigenstates[c,:,1].T) @ part_new_jz.transpose(2,0,1)[c] @ eigenstates[c,:,1])\n",
    "    upjxup.append(np.conj(eigenstates[c,:,0].T) @ part_new_jx.transpose(2,0,1)[c] @ eigenstates[c,:,0])\n",
    "    downjxdown.append(np.conj(eigenstates[c,:,1].T) @ part_new_jx.transpose(2,0,1)[c] @ eigenstates[c,:,1])\n",
    "    upjyup.append(np.conj(eigenstates[c,:,0].T) @ part_new_jy.transpose(2,0,1)[c] @ eigenstates[c,:,0])\n",
    "    downjydown.append(np.conj(eigenstates[c,:,1].T) @ part_new_jy.transpose(2,0,1)[c] @ eigenstates[c,:,1])\n",
    "    upjzdown.append(np.conj(eigenstates[c,:,0].T) @ part_new_jz.transpose(2,0,1)[c] @ eigenstates[c,:,1])\n",
    "    downjzup.append(np.conj(eigenstates[c,:,1].T) @ part_new_jz.transpose(2,0,1)[c] @ eigenstates[c,:,0])\n",
    "    upjxdown.append(np.conj(eigenstates[c,:,0].T) @ part_new_jx.transpose(2,0,1)[c] @ eigenstates[c,:,1])\n",
    "    downjxup.append(np.conj(eigenstates[c,:,1].T) @ part_new_jx.transpose(2,0,1)[c] @ eigenstates[c,:,0])\n",
    "    upjydown.append(np.conj(eigenstates[c,:,0].T) @ part_new_jy.transpose(2,0,1)[c] @ eigenstates[c,:,1])\n",
    "    downjyup.append(np.conj(eigenstates[c,:,1].T) @ part_new_jy.transpose(2,0,1)[c] @ eigenstates[c,:,0])\n",
    "\n",
    "upjzup=np.array(upjzup)\n",
    "downjzdown=np.array(downjzdown)\n",
    "upjxup=np.array(upjxup)\n",
    "downjxdown=np.array(downjxdown)\n",
    "upjyup=np.array(upjyup)\n",
    "downjydown=np.array(downjydown)\n",
    "upjzdown=np.array(upjzdown)\n",
    "downjzup=np.array(downjzup)\n",
    "upjxdown=np.array(upjxdown)\n",
    "downjxup=np.array(downjxup)\n",
    "upjydown=np.array(upjydown)\n",
    "downjyup=np.array(downjyup)\n",
    "plt.close()\n",
    "#plt.plot(Bx,0.5*(eigenvalues[:,1]-eigenvalues[:,0]))\n",
    "plt.figure(figsize=(12,8))\n",
    "plt.plot(Bx,0.5*abs(upjzup-downjzdown),label=r'$C_{zz}$')\n",
    "plt.plot(Bx,0.5*(upjxup+downjxdown),label=r'$C_{x0}$')\n",
    "plt.plot(Bx,0.5j*(upjydown-downjyup),label=r'$C_{yy}$')\n",
    "plt.plot(Bx,0.5*(upjxdown+downjxup),label=r'$C_{xx}$')\n",
    "plt.plot(Bx,0.5*(upjzup+downjzdown),label=r'$C_{z0}$')\n",
    "plt.plot(Bx,0.5*(upjzdown+downjzup),label=r'$C_{zx}$')\n",
    "plt.plot(Bx,-0.5j*(upjzdown-downjzup),label=r'$C_{zy}$')\n",
    "plt.plot(Bx,0.5*(upjxup-downjxdown),label=r'$C_{xz}$')\n",
    "plt.plot(Bx,upjzdown,label=r'$upjzdown$')\n",
    "\n",
    "# np.set_printoptions(precision=3)\n",
    "# np.set_printoptions(suppress=True)\n",
    "#print(downjxup)\n",
    "#print(part_new_jx[:,:,0])\n",
    "plt.legend()\n",
    "plt.xlabel(r'$B_x$')\n",
    "plt.ylabel(r'$C_{\\mu\\nu}$')\n",
    "plt.show()"
   ]
  },
  {
   "cell_type": "markdown",
   "metadata": {},
   "source": [
    "## Both Bx and By vary (test used in the simulation)"
   ]
  },
  {
   "cell_type": "code",
   "execution_count": null,
   "metadata": {},
   "outputs": [],
   "source": [
    "# Magnetic field Zeeman term\n",
    "Bx = np.linspace(-2.0,2.0, num=81)\n",
    "Bx=Bx+0.0\n",
    "By = np.linspace(-2.0,2.0, num=81)\n",
    "Bz=0\n",
    "\n",
    "H_zeeman = [[ -g_L * u_B * (Bx[i]*jx + By[j]*jy + Bz*jz) for i in range(len(Bx)) ] for j in range(len(By))]"
   ]
  },
  {
   "cell_type": "code",
   "execution_count": null,
   "metadata": {},
   "outputs": [],
   "source": [
    "# full Hamiltonian\n",
    "H = [ [( H_cf + H_zeeman_xy ) for H_zeeman_xy in H_zeeman_x ] for H_zeeman_x in H_zeeman ]\n",
    "\n",
    "H=np.array(H)\n",
    "assert np.allclose(H.transpose(0,1,3,2).conj(), H) # check Hermiticity"
   ]
  },
  {
   "cell_type": "code",
   "execution_count": null,
   "metadata": {},
   "outputs": [],
   "source": [
    "### diagonalization\n",
    "res=[]\n",
    "eigen_energies=[]\n",
    "for hx in H:\n",
    "    res_x=[]\n",
    "    eigen_energies_x=[]\n",
    "    for hxy in hx:\n",
    "        w,v = LA.eigh(hxy)\n",
    "        res_x.append(v.T)\n",
    "        eigen_energies_x.append(w)\n",
    "    res.append(res_x)\n",
    "    eigen_energies.append(eigen_energies_x)\n",
    "\n",
    "eigenstates1=np.array(res)\n",
    "# 1st index is H, 2nd index is eigenvalue number (from lowest to highest)\n",
    "change_of_basis_matrix_inverse=np.transpose(eigenstates1,axes=(0,1,3,2))\n",
    "change_of_basis_matrix=LA.inv(change_of_basis_matrix_inverse)\n",
    "new_jz=change_of_basis_matrix @ jz @ change_of_basis_matrix_inverse\n",
    "new_jx=change_of_basis_matrix @ jx @ change_of_basis_matrix_inverse\n",
    "new_jy=change_of_basis_matrix @ jy @ change_of_basis_matrix_inverse\n",
    "\n",
    "# print(np.matrix(new_jz))\n",
    "\n",
    "part_new_jz=np.array(((new_jz[:,:,0,0],new_jz[:,:,0,1]),(new_jz[:,:,1,0],new_jz[:,:,1,1])))\n",
    "part_new_jx=np.array(((new_jx[:,:,0,0],new_jx[:,:,0,1]),(new_jx[:,:,1,0],new_jx[:,:,1,1])))\n",
    "part_new_jy=np.array(((new_jy[:,:,0,0],new_jy[:,:,0,1]),(new_jy[:,:,1,0],new_jy[:,:,1,1])))\n",
    "\n",
    "eigenvalues=[]\n",
    "eigenstates=[]\n",
    "\n",
    "j=0\n",
    "for part_new_jz_i in part_new_jz.transpose(2,3,0,1):\n",
    "    eigenvalues_i=[]\n",
    "    eigenstates_i=[]\n",
    "    for part_new_jz_ij in part_new_jz_i:\n",
    "#     print(\"part_new_jz_i\")\n",
    "#     print(part_new_jz_i)\n",
    "        w1,v1 = LA.eigh(part_new_jz_ij)\n",
    "        eigenvalues_i.append(w1)\n",
    "#     print('Bx='+str(Bx[j]))\n",
    "#     j+=1\n",
    "        for i in range(v1.T[:,0].size):\n",
    "            v1.T[i,:]*=np.exp(-1j*np.angle(v1.T[i,0]))\n",
    "#     print(np.angle(v1.T))\n",
    "#     print(np.abs(v1.T))\n",
    "        eigenstates_i.append(v1)\n",
    "    eigenstates.append(eigenstates_i)\n",
    "    eigenvalues.append(eigenvalues_i)\n",
    "\n",
    "    \n",
    "# # checks:\n",
    "# alpha = eigenstates1[0, 0, :]\n",
    "# beta = eigenstates1[0, 1, :]\n",
    "# up_coord=v1[:,0]\n",
    "# down_coord=v1[:,1]\n",
    "# print('up_coord='+str(np.angle(up_coord)))\n",
    "# print('down_coord='+str(np.angle(down_coord)))\n",
    "# up=up_coord[0]*alpha + up_coord[1]*beta\n",
    "# down=down_coord[0]*alpha + down_coord[1]*beta\n",
    "# print('up='+str(up))\n",
    "# print('down='+str(down))\n",
    "# print(\"up@down=\"+str(np.conj(np.transpose(up)) @ down))\n",
    "# # print(\"up@jz@down=\"+str(np.conj(np.transpose(up)) @ jz @ down))\n",
    "# # print(\"down@jz@up=\"+str(np.conj(np.transpose(down)) @ jz @ up))\n",
    "# # print(\"down@jz@down=\"+str(np.conj(np.transpose(down)) @ jz @ down))\n",
    "# # print(\"up@jz@up=\"+str(np.conj(np.transpose(up)) @ jz @ up))\n",
    "    \n",
    "eigenvalues=np.array(eigenvalues)\n",
    "eigenstates=np.array(eigenstates)\n",
    "\n",
    "upjzup=[]\n",
    "downjzdown=[]\n",
    "upjxup=[]\n",
    "downjxdown=[]\n",
    "upjyup=[]\n",
    "downjydown=[]\n",
    "upjzdown=[]\n",
    "downjzup=[]\n",
    "upjxdown=[]\n",
    "downjxup=[]\n",
    "upjydown=[]\n",
    "downjyup=[]\n",
    "\n",
    "for x in range(eigenstates.shape[0]):\n",
    "    upjzup_x=[]\n",
    "    downjzdown_x=[]\n",
    "    for y in range(eigenstates.shape[1]):\n",
    "        upjzup_x.append(np.conj(eigenstates[x,y,:,0].T) @ part_new_jz.transpose(2,3,0,1)[x,y] @ eigenstates[x,y,:,0])\n",
    "        downjzdown_x.append(np.conj(eigenstates[x,y,:,1].T) @ part_new_jz.transpose(2,3,0,1)[x,y] @ eigenstates[x,y,:,1])\n",
    "    upjzup.append(upjzup_x)\n",
    "    downjzdown.append(downjzdown_x)\n",
    "\n",
    "upjzup=np.array(upjzup)\n",
    "downjzdown=np.array(downjzdown)\n",
    "\n",
    "plt.close()\n",
    "#plt.plot(Bx,0.5*(eigenvalues[:,1]-eigenvalues[:,0]))\n",
    "plt.figure(figsize=(12,8))\n",
    "plt.plot(Bx,0.5*abs(upjzup-downjzdown)[0,:],label=r'$C_{zz}$')\n",
    "\n",
    "# np.set_printoptions(precision=3)\n",
    "# np.set_printoptions(suppress=True)\n",
    "#print(downjxup)\n",
    "#print(part_new_jx[:,:,0])\n",
    "plt.legend()\n",
    "plt.xlabel(r'$B_x$')\n",
    "plt.ylabel(r'$C_{\\mu\\nu}$')\n",
    "plt.show()"
   ]
  },
  {
   "cell_type": "markdown",
   "metadata": {},
   "source": [
    "## Attempted fitting of C<sub>zz</sub> as a function of (B<sub>x</sub>, B<sub>y</sub>)"
   ]
  },
  {
   "cell_type": "code",
   "execution_count": null,
   "metadata": {},
   "outputs": [],
   "source": [
    "# plotting\n",
    "from matplotlib.lines import Line2D\n",
    "h1=plt.contour(Bx,By,0.5*abs(upjzup-downjzdown),colors='r')\n",
    "plt.clabel(h1, inline=1, fontsize=10)\n",
    "plt.show()"
   ]
  },
  {
   "cell_type": "code",
   "execution_count": null,
   "metadata": {},
   "outputs": [],
   "source": [
    "def func(R, *p):\n",
    "    \"\"\"Polynomial fitting function.\"\"\"\n",
    "    if len(p)%2!=0:\n",
    "        raise Exception(\"Number of arguments must be even.\")\n",
    "\n",
    "    x = R[0:81]\n",
    "    y = R[81:]\n",
    "    x,y = np.meshgrid(x,y)\n",
    "    \n",
    "    g = np.polyval(p[int(len(p)/2):], x) * np.polyval(p[:int(len(p)/2)], y)\n",
    "    \n",
    "    #g = (p0 + p1*x + p2*y + p3*z + p4*x*y + p5*x*z + p6*y*z + p7*x**2 + p8*y**2 +\n",
    "    #     p9*z**2 + p10*x**3 + p11*y**3 + p12*z**3 + p13*x**2*y + p14*x**2*z + p15*y**2*x + p16*y**2*z\n",
    "    #     + p17*z**2*x + p18*z**2*y + p19*x*y*z)\n",
    "    return g.ravel()"
   ]
  },
  {
   "cell_type": "code",
   "execution_count": null,
   "metadata": {},
   "outputs": [],
   "source": [
    "# fitting procedure using func()\n",
    "\n",
    "from scipy import optimize\n",
    "\n",
    "x_data=np.concatenate((Bx, By))\n",
    "y_data=0.5*abs(upjzup-downjzdown).T.ravel()\n",
    "p0=[ 1, 1, 1, 1, 1, 1, 1, 1 ]\n",
    "params, params_covariance = optimize.curve_fit(func, x_data, y_data, p0=p0)\n",
    "\n",
    "print(params)\n",
    "# calculate R^2\n",
    "residuals = y_data.ravel() - func(x_data, *params)\n",
    "ss_res = np.sum(residuals**2)\n",
    "ss_tot = np.sum((y_data-np.mean(y_data))**2)\n",
    "r_squared = 1 - (ss_res / ss_tot)\n",
    "print('R^2 (%s)=%s'%(func.__name__,str(r_squared)))\n",
    "\n",
    "#plt.plot(x_data, func(x_data, *params), label=func.__name__)"
   ]
  },
  {
   "cell_type": "code",
   "execution_count": null,
   "metadata": {},
   "outputs": [],
   "source": [
    "# plot fitted function and original data\n",
    "\n",
    "from matplotlib.lines import Line2D\n",
    "\n",
    "plt.figure(figsize=(10,10))\n",
    "#data\n",
    "h1 = plt.contour(Bx,By,0.5*abs(upjzup-downjzdown).T,colors='r')\n",
    "#fit\n",
    "h2 = plt.contour(Bx,By,func(x_data,*params).reshape(len(Bx),len(By)),colors='b')\n",
    "\n",
    "custom_lines = [Line2D([0], [0], color='r', lw=2),\n",
    "                Line2D([0], [0], color='b', lw=2)]\n",
    "\n",
    "plt.gca().legend(custom_lines, ['data', 'fit'])\n",
    "\n",
    "plt.clabel(h1, inline=1, fontsize=10)     \n",
    "plt.clabel(h2, inline=1, fontsize=10)\n",
    "# plt.text(1.05,.95,'Bz=%1.4f'%Bz[index])\n",
    "plt.xlabel('Bx')\n",
    "plt.ylabel('By')\n",
    "# plt.gcf().savefig('fit.png')\n",
    "plt.show()"
   ]
  },
  {
   "cell_type": "markdown",
   "metadata": {},
   "source": [
    "## Saving the data created on a grid of (B<sub>x</sub>, B<sub>y</sub>) to be used in the simulation by interpolating in between the grid values\n",
    "The procedure includes generating the data for some value of meanBx (change the value +0.0 in cell \\[26\\]), and following the cells below"
   ]
  },
  {
   "cell_type": "code",
   "execution_count": null,
   "metadata": {},
   "outputs": [],
   "source": [
    "data=np.broadcast_to(0.5*abs(upjzup-downjzdown),(2,81,81))"
   ]
  },
  {
   "cell_type": "code",
   "execution_count": null,
   "metadata": {},
   "outputs": [],
   "source": [
    "import os\n",
    "import sys\n",
    "def write_to_file(name, data, Bx, By, Bz):\n",
    "    abs_file_path = name + '.txt'\n",
    "    with open(abs_file_path, 'w') as outfile:\n",
    "        # I'm writing a header here just for the sake of readability\n",
    "        # Any line starting with \"#\" will be ignored by numpy.loadtxt\n",
    "        outfile.write('# {0}\\n'.format(data.shape))\n",
    "        outfile.write('# Bz: %s\\n'%np.array2string(Bz,threshold=sys.maxsize,max_line_width=np.nan,separator=','))\n",
    "        outfile.write('# By: %s\\n'%np.array2string(By,threshold=sys.maxsize,max_line_width=np.nan,separator=','))\n",
    "        outfile.write('# Bx: %s\\n'%np.array2string(Bx,threshold=sys.maxsize,max_line_width=np.nan,separator=','))\n",
    "        # Iterating through a ndimensional array produces slices along\n",
    "        # the last axis. This is equivalent to data[i,:,:] in this case\n",
    "        for data_slice in data:\n",
    "\n",
    "            # The formatting string indicates that I'm writing out\n",
    "            # the values in left-justified columns 7 characters in width\n",
    "            # with 2 decimal places.  \n",
    "            np.savetxt(outfile, data_slice, fmt='%-7.8f')\n",
    "\n",
    "            # Writing out a break to indicate different slices...\n",
    "            outfile.write('# New Bz slice\\n')\n"
   ]
  },
  {
   "cell_type": "code",
   "execution_count": null,
   "metadata": {},
   "outputs": [],
   "source": [
    "write_to_file('magnetic_moment_up_arr_2.00_chak', data, Bx, By, np.array([-2.,2.]))"
   ]
  },
  {
   "cell_type": "markdown",
   "metadata": {},
   "source": [
    "## Plot S<sub>z</sub><sup>2</sup>, T<sub>c</sub> and C<sub>zz</sub> vs. H<sub>x</sub>\n",
    "Plot the magnetic moment calculated separately, the magnetic moment calculated during the simulation, T<sub>c</sub> and C<sub>zz</sub> all rescaled to have the same value at (H<sub>x</sub>=0) versus H<sub>x</sub>.  \n",
    "1. `Czz.npz` is the one derived by Chakraborty et al. \\[1\\] and is created by this notebook\n",
    "2. `Czz2.npz` is \"our\" version, where an effective longitudinal field is added for each value of the transverse field, and is created by the notebook `Magnetic moment and Energy - 3D fit & plot slices.ipynb`\n",
    "3. `Czz3.npz` is the same as 2 but with hf interactions. not plotted."
   ]
  },
  {
   "cell_type": "code",
   "execution_count": null,
   "metadata": {},
   "outputs": [],
   "source": [
    "from scipy.interpolate import interpn"
   ]
  },
  {
   "cell_type": "code",
   "execution_count": null,
   "metadata": {},
   "outputs": [],
   "source": [
    "points = (Bx, By)\n",
    "values = 0.5*abs(upjzup-downjzdown).T\n",
    "point = np.array([0,0.2])\n",
    "print(interpn(points, values, point, method='splinef2d'))"
   ]
  },
  {
   "cell_type": "code",
   "execution_count": null,
   "metadata": {},
   "outputs": [],
   "source": [
    "np.savez('Czz.npz',Bx,0.5*abs(upjzup-downjzdown))"
   ]
  },
  {
   "cell_type": "code",
   "execution_count": null,
   "metadata": {},
   "outputs": [],
   "source": [
    "loaded=np.load('Czz2.npz')\n",
    "magnetic_moment_up_arr=loaded['arr_3']\n",
    "Bx3=loaded['arr_0']\n",
    "By3=loaded['arr_1']\n",
    "Bz3=loaded['arr_2']"
   ]
  },
  {
   "cell_type": "code",
   "execution_count": null,
   "metadata": {},
   "outputs": [],
   "source": [
    "loaded3=np.load('Czz3.npz')\n",
    "magnetic_moment_up_arr3=loaded3['arr_3']\n",
    "Bx3=loaded3['arr_0']\n",
    "By3=loaded3['arr_1']\n",
    "Bz3=loaded3['arr_2']"
   ]
  },
  {
   "cell_type": "code",
   "execution_count": null,
   "metadata": {},
   "outputs": [],
   "source": [
    "BzIndex=(np.abs(np.array(Bz3) - 0.0)).argmin()\n",
    "ByIndex=(np.abs(np.array(By3) - 0.0)).argmin()\n",
    "# BzIndex=40\n",
    "# ByIndex=40\n",
    "print(BzIndex)\n",
    "print(ByIndex)"
   ]
  },
  {
   "cell_type": "code",
   "execution_count": null,
   "metadata": {},
   "outputs": [],
   "source": [
    "Bz3[BzIndex]"
   ]
  },
  {
   "cell_type": "code",
   "execution_count": null,
   "metadata": {},
   "outputs": [],
   "source": [
    "magnetic_moment_up_arr3[40,40,40]*=-1"
   ]
  },
  {
   "cell_type": "code",
   "execution_count": null,
   "metadata": {},
   "outputs": [],
   "source": [
    "%matplotlib qt"
   ]
  },
  {
   "cell_type": "code",
   "execution_count": null,
   "metadata": {},
   "outputs": [],
   "source": [
    "(0.5*abs(upjzup-downjzdown)[40,:])**2"
   ]
  },
  {
   "cell_type": "code",
   "execution_count": null,
   "metadata": {},
   "outputs": [],
   "source": [
    "plt.close()\n",
    "plt.plot(Bx,(0.5*abs(upjzup-downjzdown)[40,:])**2,label='Chakraborty')\n",
    "plt.plot(Bx2,magnetic_moment_up_arr[BzIndex,ByIndex,:]**2,label='Ours')\n",
    "# plt.plot(Bx3,magnetic_moment_up_arr3[40,40,:],label='Ours2')\n",
    "plt.xlim(0,5)\n",
    "# plt.legend()\n",
    "# plt.show()"
   ]
  },
  {
   "cell_type": "code",
   "execution_count": null,
   "metadata": {},
   "outputs": [],
   "source": [
    "scale_charkaborty = (0.5*abs(upjzup-downjzdown)[40,40])**2 / Chakraborty_hf_x[-1]\n",
    "scale_ronnow = (0.5*abs(upjzup-downjzdown)[40,44])**2 / T[1]\n",
    "scale_res_wo4 = (0.5*abs(upjzup-downjzdown)[40,44])**2 / res_wo4[0,0]"
   ]
  },
  {
   "cell_type": "code",
   "execution_count": null,
   "metadata": {},
   "outputs": [],
   "source": [
    "Chakraborty_hf_x, Chakraborty_hf_y = sort(np.genfromtxt(r'data\\Chakraborty_hf.txt',unpack=True))\n",
    "plt.plot(Chakraborty_hf_y, scale_charkaborty*Chakraborty_hf_x, 's', fillstyle='none', label='QMC (Chakraborty et al. [2])', mew=2,ms=10, clip_on=False)"
   ]
  },
  {
   "cell_type": "code",
   "execution_count": null,
   "metadata": {},
   "outputs": [],
   "source": [
    "T, ronnow_exp = sort(np.genfromtxt(r'data\\Babkevich_exp.txt',unpack=True),sort_by_y=True)\n",
    "plt.plot(ronnow_exp, scale_ronnow*T ,marker='>',mec='indianred',mew=2,ms=10,mfc='none',linestyle='none',label='Experimant (compiled by Babkevich et al. [5])',clip_on=False)"
   ]
  },
  {
   "cell_type": "code",
   "execution_count": null,
   "metadata": {},
   "outputs": [],
   "source": [
    "our_mc = np.load(r'data\\data.npz',allow_pickle=True)\n",
    "# plt.plot(ronnow_exp, scale_ronnow*T ,marker='>',mec='indianred',mew=2,ms=10,mfc='none',linestyle='none',label='Experimant (compiled by Babkevich et al. [5])',clip_on=False)"
   ]
  },
  {
   "cell_type": "code",
   "execution_count": null,
   "metadata": {},
   "outputs": [],
   "source": [
    "plt.scatter(our_mc['arr_0'].T[6],our_mc['arr_0'].T[0], label='$<J_z^2>$, mechanism off')"
   ]
  },
  {
   "cell_type": "code",
   "execution_count": null,
   "metadata": {},
   "outputs": [],
   "source": [
    "our_mc_wo = np.load(r'data\\data_wo.npz',allow_pickle=True)\n",
    "# plt.plot(ronnow_exp, scale_ronnow*T ,marker='>',mec='indianred',mew=2,ms=10,mfc='none',linestyle='none',label='Experimant (compiled by Babkevich et al. [5])',clip_on=False)"
   ]
  },
  {
   "cell_type": "code",
   "execution_count": null,
   "metadata": {},
   "outputs": [],
   "source": [
    "plt.scatter(our_mc_wo['arr_0'].T[6],our_mc_wo['arr_0'].T[0], label='$<J_z^2>$, mechanism off, const')"
   ]
  },
  {
   "cell_type": "code",
   "execution_count": null,
   "metadata": {},
   "outputs": [],
   "source": [
    "our_mc_w = np.load(r'data\\data_w.npz',allow_pickle=True)\n",
    "plt.scatter(our_mc_w['arr_0'].T[6],((0.5*abs(upjzup-downjzdown)[40,40])**2 / our_mc_w['arr_0'].T[0][0])*our_mc_w['arr_0'].T[0], label='$<J_z^2>$, mechanism on, const')"
   ]
  },
  {
   "cell_type": "code",
   "execution_count": null,
   "metadata": {},
   "outputs": [],
   "source": [
    "plt.plot(res_wo4[:,2],scale_res_wo4*res_wo4[:,0],marker='x',linestyle='none', mew=2,ms=10, label='ODD terms excluded ($J_{ex}=3.91$ mK), L=5,6,7', clip_on=False)\n",
    "plt.plot(res_w3[:,2],((0.5*abs(upjzup-downjzdown)[40,40])**2 / res_w3[0,0])*res_w3[:,0],marker='x',linestyle='none', mew=2,ms=10, label='ODD terms included ($J_{ex}=1.16$ mK), const. moment', clip_on=False)\n",
    "plt.plot(res_wo3[:,2],((0.5*abs(upjzup-downjzdown)[40,40])**2 / res_wo3[0,0])*res_wo3[:,0],marker='x',linestyle='none', mew=2,ms=10, label='ODD terms excluded ($J_{ex}=1.16$ mK), const. moment', clip_on=False)"
   ]
  },
  {
   "cell_type": "code",
   "execution_count": null,
   "metadata": {},
   "outputs": [],
   "source": [
    "plt.xlim(0,2)\n",
    "plt.ylim(15,35)\n",
    "plt.xlabel('$B_x$')\n",
    "plt.ylabel(r'$\\langle J_z^2 \\rangle $')\n",
    "plt.legend()"
   ]
  },
  {
   "cell_type": "code",
   "execution_count": null,
   "metadata": {},
   "outputs": [],
   "source": [
    "plt.gcf().savefig('S_z2_vs_Hx.pdf')"
   ]
  },
  {
   "cell_type": "markdown",
   "metadata": {},
   "source": [
    "Some $T_c$ values from MC simulations:"
   ]
  },
  {
   "cell_type": "code",
   "execution_count": null,
   "metadata": {},
   "outputs": [],
   "source": [
    "res_wo4=np.array([[1.5096135538920437, 0.0005109413850920518, 0.0],\n",
    "                    [1.5073050811041786, 0.000445658320260803, 0.3],\n",
    "                    [1.4814976304405443, 0.0004110096135758716, 0.6],\n",
    "                    [1.4497300158513422, 0.0005158071024299779, 1.0],\n",
    "                    [1.2569411136094195, 0.00033478958949719514, 1.5]])"
   ]
  },
  {
   "cell_type": "code",
   "execution_count": null,
   "metadata": {},
   "outputs": [],
   "source": [
    "res_w3=np.array([[1.5559052010018908, 0.000332532186120921, 0.0],\n",
    "                [1.5479361637185762, 0.00029061385640320823, 0.3],\n",
    "                [1.53414671227904, 0.0002879103947500188, 0.6],\n",
    "                [1.5050706238379528, 0.00046136481898499595, 1.0],\n",
    "                [1.4517850722328578, 0.0002808759623497347, 1.5],\n",
    "                [1.400964536947133, 0.0003757495990619571, 2.0]])"
   ]
  },
  {
   "cell_type": "code",
   "execution_count": null,
   "metadata": {},
   "outputs": [],
   "source": [
    "res_wo3=np.array([[1.7626170500334353, 0.0003453704452627634, 0.0],\n",
    "                    [1.761901735564787, 0.00026504420324123155, 0.3],\n",
    "                    [1.7498711316194884, 0.0003069218719886814, 0.6],\n",
    "                    [1.7289585263359022, 0.0003222821586886707, 1.0],\n",
    "                    [1.6968147808099938, 0.0003554835230606231, 1.5],\n",
    "                    [1.6544695375845413, 0.0004810994346332488, 2.0]])"
   ]
  },
  {
   "cell_type": "code",
   "execution_count": null,
   "metadata": {},
   "outputs": [],
   "source": [
    "def sort(lst, sort_by_y=False):\n",
    "    if len(lst)==3:\n",
    "        x, y, err = lst\n",
    "    elif len(lst)==2:\n",
    "        x, y = lst\n",
    "        \n",
    "    if not sort_by_y:\n",
    "        p = x.argsort()\n",
    "    else:\n",
    "        p = y.argsort()\n",
    "    x=x[p]\n",
    "    y=y[p]\n",
    "    if len(lst)==3:\n",
    "        err=err[p]\n",
    "    \n",
    "    if len(lst)==3:\n",
    "        return (x,y,err)\n",
    "    elif len(lst)==2:\n",
    "        return (x,y)"
   ]
  },
  {
   "cell_type": "code",
   "execution_count": null,
   "metadata": {},
   "outputs": [],
   "source": []
  }
 ],
 "metadata": {
  "kernelspec": {
   "display_name": "Python 3 (ipykernel)",
   "language": "python",
   "name": "python3"
  },
  "language_info": {
   "codemirror_mode": {
    "name": "ipython",
    "version": 3
   },
   "file_extension": ".py",
   "mimetype": "text/x-python",
   "name": "python",
   "nbconvert_exporter": "python",
   "pygments_lexer": "ipython3",
   "version": "3.10.4"
  }
 },
 "nbformat": 4,
 "nbformat_minor": 2
}
