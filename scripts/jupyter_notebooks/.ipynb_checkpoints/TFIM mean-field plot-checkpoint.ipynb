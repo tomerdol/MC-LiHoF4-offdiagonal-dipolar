{
 "cells": [
  {
   "cell_type": "code",
   "execution_count": null,
   "metadata": {},
   "outputs": [],
   "source": [
    "from matplotlib import pyplot as plt\n",
    "import numpy as np"
   ]
  },
  {
   "cell_type": "code",
   "execution_count": null,
   "metadata": {},
   "outputs": [],
   "source": [
    "delta = 0.025\n",
    "xrange = np.arange(-5.0, 20.0, delta)\n",
    "yrange = np.arange(-5.0, 20.0, delta)\n",
    "X, Y = np.meshgrid(xrange,yrange)\n",
    "\n",
    "# F is one side of the equation, G is the other\n",
    "F = 1/np.tanh(Y/(X))\n",
    "G = 1/Y\n",
    "\n",
    "plt.figure(figsize=(5,5))\n",
    "\n",
    "plt.contour(X, Y, (F - G), [0])\n",
    "plt.xlim(0,1.2)\n",
    "plt.ylim(0,1.2)\n",
    "\n",
    "plt.xlabel(r'$\\frac{k_B T}{J}$', fontsize=17)\n",
    "plt.ylabel(r'$\\frac{\\Gamma}{J}$', fontsize=17)\n",
    "plt.xticks([1])\n",
    "ax=plt.gca()\n",
    "ax.set_xticklabels([r'$\\frac{k_B T_c}{J}$'],fontsize=14)\n",
    "plt.yticks([1])\n",
    "ax.set_yticklabels([r'$\\frac{\\Gamma_c}{J}$'],fontsize=14)\n",
    "ax.text(0.2, 0.3, r'$\\langle \\sigma^z \\rangle \\neq 0$', transform=ax.transAxes, fontsize=14)\n",
    "ax.text(0.65, 0.7, r'$\\langle \\sigma^z \\rangle = 0$', transform=ax.transAxes, fontsize=14)\n",
    "plt.gcf().tight_layout()\n",
    "plt.gcf().savefig(r'figures\\phase_diagram_TFIM_MF.eps',format='eps')\n",
    "plt.show()"
   ]
  },
  {
   "cell_type": "code",
   "execution_count": null,
   "metadata": {},
   "outputs": [],
   "source": []
  }
 ],
 "metadata": {
  "kernelspec": {
   "display_name": "Python 3 (ipykernel)",
   "language": "python",
   "name": "python3"
  },
  "language_info": {
   "codemirror_mode": {
    "name": "ipython",
    "version": 3
   },
   "file_extension": ".py",
   "mimetype": "text/x-python",
   "name": "python",
   "nbconvert_exporter": "python",
   "pygments_lexer": "ipython3",
   "version": "3.10.4"
  }
 },
 "nbformat": 4,
 "nbformat_minor": 2
}
