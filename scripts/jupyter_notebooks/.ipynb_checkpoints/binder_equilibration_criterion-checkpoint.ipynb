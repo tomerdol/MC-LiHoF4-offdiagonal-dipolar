{
 "cells": [
  {
   "cell_type": "markdown",
   "metadata": {},
   "source": [
    "# Binder equilibration criterion testing\n",
    "Notebook used to test equilibration on data produced in parallel independent runs using the equilibration condition defined in p.34 of Binder, K. (2010). Monte Carlo Simulation in Statistical Physics An Introduction (5th ed. 2010..). Springer Berlin Heidelberg.\n",
    "\n",
    "Using $\\tau$ to denote the integrated non-linear relaxation time, $t_{M_0}$ to denote the initial time used to calculate observables.\n",
    "\n",
    "Binder's requires $\\tau \\ll t_{M_0}$, so a choice of values is considered self consistent when $t_{M0} = 10\\tau$ and \n",
    "$$\\phi^{nl}(t):=\\frac{\\left< A (t)\\right>_T - \\left< A (\\infty)\\right>_T}{\\left< A (0)\\right>_T - \\left< A (\\infty)\\right>_T}$$\n",
    "$$\\left< A (\\infty)\\right>_T = \\frac{1}{n_{\\text{run}}} \\sum_{l=1}^{n_{\\text{run}}} \\frac{1}{M-M_0} \\sum_{t=M_0}^{M} A(t,l)$$\n",
    "($M$ is the total number of MCS)\n",
    "\n",
    "Last eqn. means that the asymptotic value is calculated by averaging over the entire time series starting from $t_{M_0}$.\n",
    "\n",
    "#### Key issue:\n",
    "$m^2(k_{\\text{min}})$ relaxes non exponentially to equilibrium!\n",
    "\n",
    "Therefore $\\tau$ accumulates negative values when summing $m^2(k_{\\text{min}})$ so that its final value is too small."
   ]
  },
  {
   "cell_type": "code",
   "execution_count": null,
   "metadata": {},
   "outputs": [],
   "source": [
    "import matplotlib\n",
    "matplotlib.use('nbagg')\n",
    "import matplotlib.pyplot as plt\n",
    "import numpy as np\n",
    "import pandas as pd\n",
    "import sys\n",
    "import glob\n",
    "import analysis_tools"
   ]
  },
  {
   "cell_type": "code",
   "execution_count": null,
   "metadata": {},
   "outputs": [],
   "source": [
    "# parameters:\n",
    "\n",
    "to_plot = ['Energy']#['Energy','|m|','m2','mk2']\n",
    "L = '5'\n",
    "Bex = '0.0'\n",
    "folderName = 'parallel_test'\n",
    "mech = ['false']#sys.argv[3]"
   ]
  },
  {
   "cell_type": "code",
   "execution_count": null,
   "metadata": {},
   "outputs": [],
   "source": [
    "# creatge table of simulations (just one simulation here)\n",
    "simulations = analysis_tools.get_simulations(L, folderName, Bex, mech, T=[1.72520])"
   ]
  },
  {
   "cell_type": "code",
   "execution_count": null,
   "metadata": {},
   "outputs": [],
   "source": [
    "# Read data\n",
    "\n",
    "nonlinear_relax_times = []\n",
    "\n",
    "# get simulation parameters in namedtuple\n",
    "sim = list(simulations.itertuples())[0]\n",
    "path='../analysis/'+sim.folderName+'/table_'+str(sim.L)+'_'+str(sim.L)+'_'+str(sim.Bex)+'_'+str(sim.T)+'_'+str(sim.mech)+'_'+'*'+'.txt'\n",
    "\n",
    "file_list = glob.glob(path) # list of all files that match the sim parameters\n",
    "\n",
    "arrays=[]\n",
    "\n",
    "# iterate over seeds (ind. runs):\n",
    "for fname in file_list:\n",
    "    y = analysis_tools.get_table_data_by_fname(fname, print_prog=True)\n",
    "\n",
    "    arrays.append(y)\n",
    "\n",
    "all_tables = pd.concat(arrays)\n",
    "\n",
    "# create new columns w/ abs and squared magnetization (otherwise averages are meaningless)\n",
    "all_tables['|m|']=all_tables['Magnetization'].abs()\n",
    "all_tables['m2']=all_tables['Magnetization']**2\n",
    "\n",
    "# average over independent simulations (all columns)\n",
    "ind_runs_means = all_tables.groupby(all_tables.index).mean()\n",
    "\n",
    "# number of runs\n",
    "n=len(ind_runs_means)\n",
    "\n",
    "# non-linear relaxation func as defined in (2.57), p.34 of Binder, K. (2010). Monte Carlo Simulation in Statistical Physics An Introduction (5th ed. 2010..). Springer Berlin Heidelberg.\n",
    "# (mean is taken over the last half of the time series)\n",
    "nonlinear_relax_func = (ind_runs_means -  ind_runs_means.iloc[int(n/2):].mean())/(ind_runs_means.iloc[0] - ind_runs_means.iloc[int(n/2):].mean())"
   ]
  },
  {
   "cell_type": "code",
   "execution_count": null,
   "metadata": {},
   "outputs": [],
   "source": [
    "# reset nonlinear_relax_func start\n",
    "nonlinear_relax_func = (ind_runs_means -  ind_runs_means.iloc[int(n/2):].mean())/(ind_runs_means.iloc[0] - ind_runs_means.iloc[int(n/2):].mean())"
   ]
  },
  {
   "cell_type": "code",
   "execution_count": null,
   "metadata": {},
   "outputs": [],
   "source": [
    "# display full dataframe\n",
    "pd.set_option('display.max_rows', None)"
   ]
  },
  {
   "cell_type": "code",
   "execution_count": null,
   "metadata": {},
   "outputs": [],
   "source": [
    "# set observable\n",
    "observable='Energy'"
   ]
  },
  {
   "cell_type": "code",
   "execution_count": null,
   "metadata": {},
   "outputs": [],
   "source": [
    "def find_init_tau(tau_cumsum_to_t_ratio, tol=0.1):\n",
    "    \"\"\"find initial tau where the ratio of tau cummulative sum to t (index) is less than tol=0.1 for at least 10 time steps\"\"\"\n",
    "    tau1=tau_cumsum_to_t_ratio.abs().lt(tol).idxmax()\n",
    "    while not (tau_cumsum_to_t_ratio.abs().loc[tau1:tau1+10] < tol).all():\n",
    "        tau1=(tau_cumsum_to_t_ratio.abs().loc[tau1+1:] < tol).idxmax()\n",
    "    return tau1"
   ]
  },
  {
   "cell_type": "code",
   "execution_count": null,
   "metadata": {},
   "outputs": [],
   "source": [
    "# find self consistent values for tau and t_{M0}\n",
    "\n",
    "tau_cumsum_to_t_ratio=(nonlinear_relax_func[observable].cumsum() / nonlinear_relax_func[observable].index)\n",
    "\n",
    "tau1=find_init_tau(tau_cumsum_to_t_ratio)\n",
    "nonlinear_relax_func = (ind_runs_means -  ind_runs_means.iloc[tau1:].mean())/(ind_runs_means.iloc[0] - ind_runs_means.iloc[tau1:].mean())\n",
    "tau_cumsum_to_t_ratio=(nonlinear_relax_func[observable].cumsum() / nonlinear_relax_func[observable].index)\n",
    "tries=0\n",
    "while tries < 10 and tau1!=find_init_tau(tau_cumsum_to_t_ratio):\n",
    "    tries+=1\n",
    "    tau1=find_init_tau(tau_cumsum_to_t_ratio)\n",
    "    nonlinear_relax_func = (ind_runs_means -  ind_runs_means.iloc[tau1:].mean())/(ind_runs_means.iloc[0] - ind_runs_means.iloc[tau1:].mean())\n",
    "    tau_cumsum_to_t_ratio=(nonlinear_relax_func[observable].cumsum() / nonlinear_relax_func[observable].index)\n",
    "    print(tries)\n",
    "if tries>=10:\n",
    "    print('no self consistent value of tau was found!')\n",
    "else:\n",
    "    print('After %s tries, found:'%(tries+1))\n",
    "    print('(tau,t_{M_0}) = ' + str((nonlinear_relax_func[observable].cumsum().loc[tau1],tau1)))"
   ]
  },
  {
   "cell_type": "code",
   "execution_count": null,
   "metadata": {},
   "outputs": [],
   "source": [
    "plt.close('all')"
   ]
  },
  {
   "cell_type": "code",
   "execution_count": null,
   "metadata": {
    "scrolled": true
   },
   "outputs": [],
   "source": [
    "plt.show()"
   ]
  }
 ],
 "metadata": {
  "kernelspec": {
   "display_name": "Python 3 (ipykernel)",
   "language": "python",
   "name": "python3"
  },
  "language_info": {
   "codemirror_mode": {
    "name": "ipython",
    "version": 3
   },
   "file_extension": ".py",
   "mimetype": "text/x-python",
   "name": "python",
   "nbconvert_exporter": "python",
   "pygments_lexer": "ipython3",
   "version": "3.10.4"
  }
 },
 "nbformat": 4,
 "nbformat_minor": 4
}
