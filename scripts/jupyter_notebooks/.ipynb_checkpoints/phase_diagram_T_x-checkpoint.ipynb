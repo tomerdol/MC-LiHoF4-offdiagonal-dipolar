{
 "cells": [
  {
   "cell_type": "code",
   "execution_count": null,
   "metadata": {},
   "outputs": [],
   "source": [
    "import numpy as np\n",
    "from matplotlib import pyplot as plt"
   ]
  },
  {
   "cell_type": "code",
   "execution_count": null,
   "metadata": {},
   "outputs": [],
   "source": [
    "%matplotlib qt"
   ]
  },
  {
   "cell_type": "code",
   "execution_count": null,
   "metadata": {},
   "outputs": [],
   "source": [
    "# previous results\n",
    "exp_res = np.array([[1.0, 1.53, 0.002],\n",
    "                   [0.83, 1.24, 0.01],\n",
    "                   [0.67, 1.04, 0.03],\n",
    "                   [0.46, 0.677, 0.004]])\n",
    "\n",
    "num_res = np.array([[1.0, 1.53, 0.0],\n",
    "                   [0.65, 0.9597, 0.0008],\n",
    "                   [0.44, 0.584, 0.001]])\n",
    "\n",
    "num_res2 = np.array([[1.0000432934272165, 1.529703500153332],\n",
    "                    [0.8692105563806698, 1.2770863523483684],\n",
    "                    [0.7488416001731739, 1.145202547096635],\n",
    "                    [0.6293300943435935, 0.8465428394475278],\n",
    "                    [0.49767959256074645, 0.6974426813062591]])\n",
    "#                     [0.36912817860943936, 0.40839651968948987]])\n",
    "num_res2[:,1] = num_res2[:,1]*1.53/num_res2[0,1]"
   ]
  },
  {
   "cell_type": "code",
   "execution_count": null,
   "metadata": {},
   "outputs": [],
   "source": [
    "res_w = np.array([[1.0, 1.5735253431970313, 0.0003754630485703797],\n",
    "                  [0.83, 1.3016303292804035, 0.0021399177730121507],\n",
    "                  [0.67, 1.044304329104415, 0.0022905437076580688],\n",
    "                  [0.46, 0.6557416839153027, 0.0019925636774629214]])\n",
    "\n",
    "res_w[:,[1,2]] = res_w[:,[1,2]]*1.53/res_w[0,1]\n",
    "\n",
    "res_wo = np.array([[1.0, 1.517656290937733, 0.0004816417026412535],\n",
    "                  [0.83, 1.2399466241155186, 0.0025498884518558923],\n",
    "                  [0.67, 0.9778709746838646, 0.0024449188967331213],\n",
    "                  [0.46, 0.5937024104650201, 0.0018887592588379047]])\n",
    "\n",
    "res_wo[:,[1,2]] = res_wo[:,[1,2]]*1.53/res_wo[0,1]"
   ]
  },
  {
   "cell_type": "code",
   "execution_count": null,
   "metadata": {},
   "outputs": [],
   "source": [
    "fig, ax = plt.subplots(figsize=(6.22,4.8))\n",
    "# plot previous results\n",
    "ax.errorbar(exp_res[:,0],exp_res[:,1],yerr=exp_res[:,2],marker='>',mfc='none',linestyle='none',mew=1,ms=6,capsize=3,label='Experiment',clip_on=False,color='C3')\n",
    "prev_res_line=ax.errorbar(num_res[:,0],num_res[:,1],yerr=num_res[:,2],marker='s',mfc='none',linestyle='none',mew=1,ms=6,capsize=3,label='Previous numerical', clip_on=False,color='C1')\n",
    "ax.plot(num_res2[:,0],num_res2[:,1],marker='s',mfc='none',linestyle='none',mew=1,ms=6,clip_on=False,color=prev_res_line[0].get_color() )\n",
    "\n",
    "\n",
    "# plot new results\n",
    "ax.errorbar(res_w[:,0],res_w[:,1],yerr=res_w[:,2],marker='o',mfc='none',linestyle='none',mew=1,ms=6,capsize=3,label='ODD terms included', clip_on=False,color='green')\n",
    "ax.errorbar(res_wo[:,0],res_wo[:,1],yerr=res_wo[:,2],marker='D',mfc='none',linestyle='none',mew=1,ms=6,capsize=3,label='ODD terms excluded', clip_on=False,color='mediumblue')\n",
    "\n",
    "ax.set_xlim((0.4,1.0))\n",
    "ax.set_ylim((0.5,1.58))\n",
    "\n",
    "# plot linear\n",
    "x = np.linspace(*ax.get_xlim())\n",
    "ax.plot(x,1.53*x,mfc='none',linestyle=':',color='purple',label='Linear')\n",
    "\n",
    "# phase region names\n",
    "ax.text(0.65, 0.25, 'Ferromagnet', transform=ax.transAxes, fontsize=12)\n",
    "ax.text(0.05, 0.45, 'Paramagnet', transform=ax.transAxes, fontsize=12)\n",
    "\n",
    "plt.margins(0)\n",
    "\n",
    "ax.tick_params(bottom=True,top=True,left=True,right=True,direction='in')\n",
    "\n",
    "ax.set_xlabel('x', fontsize=12)\n",
    "ax.set_ylabel(r'$\\mathrm{T_c}$ [K]',fontsize=12)\n",
    "ax.legend()\n",
    "\n",
    "fig.tight_layout()"
   ]
  },
  {
   "cell_type": "code",
   "execution_count": null,
   "metadata": {},
   "outputs": [],
   "source": [
    "fig.savefig('figures/phase_diagram_x_T.pdf')"
   ]
  },
  {
   "cell_type": "code",
   "execution_count": null,
   "metadata": {},
   "outputs": [],
   "source": []
  }
 ],
 "metadata": {
  "kernelspec": {
   "display_name": "Python 3 (ipykernel)",
   "language": "python",
   "name": "python3"
  },
  "language_info": {
   "codemirror_mode": {
    "name": "ipython",
    "version": 3
   },
   "file_extension": ".py",
   "mimetype": "text/x-python",
   "name": "python",
   "nbconvert_exporter": "python",
   "pygments_lexer": "ipython3",
   "version": "3.10.4"
  }
 },
 "nbformat": 4,
 "nbformat_minor": 4
}
