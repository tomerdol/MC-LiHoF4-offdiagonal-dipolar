{
 "cells": [
  {
   "cell_type": "code",
   "execution_count": 19,
   "metadata": {
    "collapsed": true
   },
   "outputs": [],
   "source": [
    "%matplotlib inline\n",
    "from __future__ import division\n",
    "import numpy as np\n",
    "from numpy.random import rand\n",
    "import matplotlib.pyplot as plt"
   ]
  },
  {
   "cell_type": "code",
   "execution_count": 24,
   "metadata": {},
   "outputs": [],
   "source": [
    "np.random.seed(123)"
   ]
  },
  {
   "cell_type": "code",
   "execution_count": 25,
   "metadata": {
    "collapsed": true
   },
   "outputs": [],
   "source": [
    "#----------------------------------------------------------------------\n",
    "##  BLOCK OF FUNCTIONS USED IN THE MAIN CODE\n",
    "#----------------------------------------------------------------------\n",
    "def initialstate(N):   \n",
    "    ''' generates a random spin configuration for initial condition'''\n",
    "    state = 2*np.random.randint(2, size=(N,N))-1\n",
    "    return state\n",
    "\n",
    "\n",
    "def mcmove(config, T):\n",
    "    '''Monte Carlo move using Metropolis algorithm '''\n",
    "    deltaE=0\n",
    "    deltaM=0\n",
    "    for i in range(N):\n",
    "        for j in range(N):\n",
    "                a = np.random.randint(0, N)\n",
    "                b = np.random.randint(0, N)\n",
    "                s =  config[a, b]\n",
    "                nb = config[(a+1)%N,b] + config[a,(b+1)%N] + config[(a-1)%N,b] + config[a,(b-1)%N]\n",
    "                cost = 2*s*nb\n",
    "                if cost < 0:\n",
    "                    s *= -1\n",
    "                elif rand() < np.exp(-cost/T):\n",
    "                    s *= -1\n",
    "                else:\n",
    "                    cost=0\n",
    "                deltaE+=cost\n",
    "                deltaM -= config[a,b]-s\n",
    "                config[a, b] = s\n",
    "    return [config,deltaE,deltaM]\n",
    "\n",
    "\n",
    "def calcEnergy(config):\n",
    "    '''Energy of a given configuration'''\n",
    "    energy = 0\n",
    "    rows,columns=config.shape\n",
    "    for i in range(rows):\n",
    "        for j in range(columns):\n",
    "            energy-= config[i,j]*config[(i+1)%N,j] + config[i,j]*config[i,(j+1)%N]\n",
    "    return energy\n",
    "\n",
    "\n",
    "def calcMag(config):\n",
    "    '''Magnetization of a given configuration'''\n",
    "    mag = np.sum(config)\n",
    "    return mag"
   ]
  },
  {
   "cell_type": "code",
   "execution_count": 26,
   "metadata": {
    "collapsed": true
   },
   "outputs": [],
   "source": [
    "## change these parameters for a smaller (faster) simulation \n",
    "nt      = 1         #  number of temperature points\n",
    "N       = 8         #  size of the lattice, N x N\n",
    "eqSteps = 10000       #  number of MC sweeps for equilibration\n",
    "mcSteps = 50000       #  number of MC sweeps for calculation\n",
    "\n",
    "T       = 2.269186; \n",
    "#E,M,C,X = np.zeros(nt), np.zeros(nt), np.zeros(nt), np.zeros(nt)\n",
    "#n1, n2  = 1.0/(mcSteps*N*N), 1.0/(mcSteps*mcSteps*N*N) \n",
    "# divide by number of samples, and by system size to get intensive values"
   ]
  },
  {
   "cell_type": "code",
   "execution_count": 27,
   "metadata": {
    "collapsed": true
   },
   "outputs": [],
   "source": [
    "#----------------------------------------------------------------------\n",
    "#  MAIN PART OF THE CODE\n",
    "#----------------------------------------------------------------------\n",
    "outputFile = open('2dising_%s.txt'%N, 'w')\n",
    "outputFile.write('step\\tMagnetization\\tEnergy\\n')\n",
    "\n",
    "config = initialstate(N)\n",
    "Ene = calcEnergy(config)     # calculate the energy\n",
    "Mag = calcMag(config)        # calculate the magnetisation\n",
    "\n",
    "\n",
    "for i in range(eqSteps):         # equilibrate\n",
    "    config, deltaE, deltaM = mcmove(config, T)           # Monte Carlo moves\n",
    "    Ene+=deltaE\n",
    "    Mag+=deltaM\n",
    "    #print('%s : %s'%(Mag,calcMag(config)))\n",
    "\n",
    "for i in range(mcSteps):\n",
    "    config, deltaE, deltaM = mcmove(config, T)           \n",
    "    Ene+=deltaE\n",
    "    Mag+=deltaM\n",
    "    outputFile.write('%s\\t%0.6f\\t%s\\n'%(i,abs(Mag)/(N*N),Ene))\n",
    "\n",
    "outputFile.close()"
   ]
  },
  {
   "cell_type": "code",
   "execution_count": null,
   "metadata": {
    "collapsed": true
   },
   "outputs": [],
   "source": [
    "f = plt.figure(figsize=(18, 10)); # plot the calculated values    \n",
    "\n",
    "sp =  f.add_subplot(2, 2, 1 );\n",
    "plt.scatter(T, E, s=50, marker='o', color='IndianRed')\n",
    "plt.xlabel(\"Temperature (T)\", fontsize=20);\n",
    "plt.ylabel(\"Energy \", fontsize=20);         plt.axis('tight');\n",
    "\n",
    "sp =  f.add_subplot(2, 2, 2 );\n",
    "plt.scatter(T, abs(M), s=50, marker='o', color='RoyalBlue')\n",
    "plt.xlabel(\"Temperature (T)\", fontsize=20); \n",
    "plt.ylabel(\"Magnetization \", fontsize=20);   plt.axis('tight');\n",
    "\n",
    "sp =  f.add_subplot(2, 2, 3 );\n",
    "plt.scatter(T, C, s=50, marker='o', color='IndianRed')\n",
    "plt.xlabel(\"Temperature (T)\", fontsize=20);  \n",
    "plt.ylabel(\"Specific Heat \", fontsize=20);   plt.axis('tight');   \n",
    "\n",
    "sp =  f.add_subplot(2, 2, 4 );\n",
    "plt.scatter(T, X, s=50, marker='o', color='RoyalBlue')\n",
    "plt.xlabel(\"Temperature (T)\", fontsize=20); \n",
    "plt.ylabel(\"Susceptibility\", fontsize=20);   plt.axis('tight');"
   ]
  },
  {
   "cell_type": "code",
   "execution_count": null,
   "metadata": {
    "collapsed": true
   },
   "outputs": [],
   "source": []
  }
 ],
 "metadata": {
  "kernelspec": {
   "display_name": "Python 3",
   "language": "python",
   "name": "python3"
  },
  "language_info": {
   "codemirror_mode": {
    "name": "ipython",
    "version": 3
   },
   "file_extension": ".py",
   "mimetype": "text/x-python",
   "name": "python",
   "nbconvert_exporter": "python",
   "pygments_lexer": "ipython3",
   "version": "3.5.3"
  }
 },
 "nbformat": 4,
 "nbformat_minor": 2
}
