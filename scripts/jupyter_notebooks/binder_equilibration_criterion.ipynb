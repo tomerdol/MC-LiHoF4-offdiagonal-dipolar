{
 "cells": [
  {
   "cell_type": "markdown",
   "metadata": {},
   "source": [
    "# Binder equilibration criterion testing\n",
    "Notebook used to test equilibration on data produced in parallel independent runs using the equilibration condition defined in p.34 of Binder, K. (2010). Monte Carlo Simulation in Statistical Physics An Introduction (5th ed. 2010..). Springer Berlin Heidelberg.\n",
    "\n",
    "Using $\\tau$ to denote the integrated non-linear relaxation time, $t_{M_0}$ to denote the initial time used to calculate observables.\n",
    "\n",
    "Binder's requires $\\tau \\ll t_{M_0}$, so a choice of values is considered self consistent when $t_{M0} = 10\\tau$ and \n",
    "$$\\phi^{nl}(t):=\\frac{\\left< A (t)\\right>_T - \\left< A (\\infty)\\right>_T}{\\left< A (0)\\right>_T - \\left< A (\\infty)\\right>_T}$$\n",
    "$$\\left< A (\\infty)\\right>_T = \\frac{1}{n_{\\text{run}}} \\sum_{l=1}^{n_{\\text{run}}} \\frac{1}{M-M_0} \\sum_{t=M_0}^{M} A(t,l)$$\n",
    "($M$ is the total number of MCS)\n",
    "\n",
    "Last eqn. means that the asymptotic value is calculated by averaging over the entire time series starting from $t_{M_0}$.\n",
    "\n",
    "#### Key issue:\n",
    "$m^2(k_{\\text{min}})$ relaxes non exponentially to equilibrium!\n",
    "\n",
    "Therefore $\\tau$ accumulates negative values when summing $m^2(k_{\\text{min}})$ so that its final value is too small."
   ]
  },
  {
   "cell_type": "code",
   "execution_count": 175,
   "metadata": {
    "collapsed": true
   },
   "outputs": [],
   "source": [
    "import matplotlib\n",
    "matplotlib.use('nbagg')\n",
    "import matplotlib.pyplot as plt\n",
    "import numpy as np\n",
    "import pandas as pd\n",
    "import sys\n",
    "import glob\n",
    "import analysis_tools"
   ]
  },
  {
   "cell_type": "code",
   "execution_count": 176,
   "metadata": {
    "collapsed": true
   },
   "outputs": [],
   "source": [
    "# parameters:\n",
    "\n",
    "to_plot = ['Energy']#['Energy','|m|','m2','mk2']\n",
    "L = '5'\n",
    "Bex = '0.0'\n",
    "folderName = 'parallel_test'\n",
    "mech = ['false']#sys.argv[3]"
   ]
  },
  {
   "cell_type": "code",
   "execution_count": 177,
   "metadata": {},
   "outputs": [
    {
     "name": "stdout",
     "output_type": "stream",
     "text": [
      "   L     folderName  Bex   mech         T\n",
      "0  5  parallel_test  0.0  false  1.725195\n"
     ]
    }
   ],
   "source": [
    "# creatge table of simulations (just one simulation here)\n",
    "simulations = analysis_tools.get_simulations(L, folderName, Bex, mech, T=[1.72520])"
   ]
  },
  {
   "cell_type": "code",
   "execution_count": 178,
   "metadata": {},
   "outputs": [
    {
     "name": "stdout",
     "output_type": "stream",
     "text": [
      "read ../analysis/parallel_test/table_5_5_0.0_1.7251953058301357_false_4238405562228177337.txt : 65536\n",
      "read ../analysis/parallel_test/table_5_5_0.0_1.7251953058301357_false_6138320829383856402.txt : 65536\n",
      "read ../analysis/parallel_test/table_5_5_0.0_1.7251953058301357_false_2975444148659454525.txt : 65536\n",
      "read ../analysis/parallel_test/table_5_5_0.0_1.7251953058301357_false_8352101331850336645.txt : 65536\n",
      "read ../analysis/parallel_test/table_5_5_0.0_1.7251953058301357_false_1811066200341819036.txt : 65536\n",
      "read ../analysis/parallel_test/table_5_5_0.0_1.7251953058301357_false_4026803609728301067.txt : 65536\n",
      "read ../analysis/parallel_test/table_5_5_0.0_1.7251953058301357_false_2907036230392963128.txt : 65536\n",
      "read ../analysis/parallel_test/table_5_5_0.0_1.7251953058301357_false_860667096900439879.txt : 65536\n",
      "read ../analysis/parallel_test/table_5_5_0.0_1.7251953058301357_false_5467741662741665570.txt : 65536\n",
      "read ../analysis/parallel_test/table_5_5_0.0_1.7251953058301357_false_4651872031572554208.txt : 65536\n",
      "read ../analysis/parallel_test/table_5_5_0.0_1.7251953058301357_false_8887954837390793440.txt : 65536\n",
      "read ../analysis/parallel_test/table_5_5_0.0_1.7251953058301357_false_6357008807669498834.txt : 65536\n",
      "read ../analysis/parallel_test/table_5_5_0.0_1.7251953058301357_false_4135969608024392650.txt : 65536\n",
      "read ../analysis/parallel_test/table_5_5_0.0_1.7251953058301357_false_329008367949790974.txt : 65536\n",
      "read ../analysis/parallel_test/table_5_5_0.0_1.7251953058301357_false_6169639920571522859.txt : 65536\n",
      "read ../analysis/parallel_test/table_5_5_0.0_1.7251953058301357_false_4294165014636659508.txt : 65536\n",
      "read ../analysis/parallel_test/table_5_5_0.0_1.7251953058301357_false_1036545831332091618.txt : 65536\n",
      "read ../analysis/parallel_test/table_5_5_0.0_1.7251953058301357_false_6197944251549111101.txt : 65536\n",
      "read ../analysis/parallel_test/table_5_5_0.0_1.7251953058301357_false_4550472043129635156.txt : 65536\n",
      "read ../analysis/parallel_test/table_5_5_0.0_1.7251953058301357_false_564939575040318611.txt : 65536\n",
      "read ../analysis/parallel_test/table_5_5_0.0_1.7251953058301357_false_4124327110583727389.txt : 36000\n",
      "read ../analysis/parallel_test/table_5_5_0.0_1.7251953058301357_false_6724080317987269419.txt : 65536\n",
      "read ../analysis/parallel_test/table_5_5_0.0_1.7251953058301357_false_6164528363439262107.txt : 65536\n",
      "read ../analysis/parallel_test/table_5_5_0.0_1.7251953058301357_false_9100692123557613190.txt : 65536\n",
      "read ../analysis/parallel_test/table_5_5_0.0_1.7251953058301357_false_8225018167626534998.txt : 65536\n",
      "read ../analysis/parallel_test/table_5_5_0.0_1.7251953058301357_false_6950226746440971317.txt : 65536\n",
      "read ../analysis/parallel_test/table_5_5_0.0_1.7251953058301357_false_391480665201186845.txt : 65536\n",
      "read ../analysis/parallel_test/table_5_5_0.0_1.7251953058301357_false_5688637440628902805.txt : 65536\n",
      "read ../analysis/parallel_test/table_5_5_0.0_1.7251953058301357_false_4542784352593702519.txt : 65536\n",
      "read ../analysis/parallel_test/table_5_5_0.0_1.7251953058301357_false_8497811394896375038.txt : 65536\n",
      "read ../analysis/parallel_test/table_5_5_0.0_1.7251953058301357_false_4278971467479945305.txt : 65536\n",
      "read ../analysis/parallel_test/table_5_5_0.0_1.7251953058301357_false_617944163183380145.txt : 65536\n",
      "read ../analysis/parallel_test/table_5_5_0.0_1.7251953058301357_false_3555705851761730647.txt : 65536\n",
      "read ../analysis/parallel_test/table_5_5_0.0_1.7251953058301357_false_2441768715145243876.txt : 65536\n",
      "read ../analysis/parallel_test/table_5_5_0.0_1.7251953058301357_false_4160899099251106226.txt : 65536\n",
      "read ../analysis/parallel_test/table_5_5_0.0_1.7251953058301357_false_4236357039928147377.txt : 65536\n",
      "read ../analysis/parallel_test/table_5_5_0.0_1.7251953058301357_false_2151527821650799335.txt : 65536\n",
      "read ../analysis/parallel_test/table_5_5_0.0_1.7251953058301357_false_3245171204504671766.txt : 65536\n",
      "read ../analysis/parallel_test/table_5_5_0.0_1.7251953058301357_false_4492012520869857944.txt : 65536\n",
      "read ../analysis/parallel_test/table_5_5_0.0_1.7251953058301357_false_6205426140935282256.txt : 65536\n",
      "read ../analysis/parallel_test/table_5_5_0.0_1.7251953058301357_false_4741484965840615876.txt : 65536\n",
      "read ../analysis/parallel_test/table_5_5_0.0_1.7251953058301357_false_2004043849847554551.txt : 65536\n",
      "read ../analysis/parallel_test/table_5_5_0.0_1.7251953058301357_false_2114363487227065167.txt : 65536\n",
      "read ../analysis/parallel_test/table_5_5_0.0_1.7251953058301357_false_1490355779515220525.txt : 65536\n",
      "read ../analysis/parallel_test/table_5_5_0.0_1.7251953058301357_false_7107930069086968634.txt : 65536\n",
      "read ../analysis/parallel_test/table_5_5_0.0_1.7251953058301357_false_1241428647437992557.txt : 65536\n",
      "read ../analysis/parallel_test/table_5_5_0.0_1.7251953058301357_false_5286442913920806124.txt : 65536\n",
      "read ../analysis/parallel_test/table_5_5_0.0_1.7251953058301357_false_6837870685459390588.txt : 65536\n",
      "read ../analysis/parallel_test/table_5_5_0.0_1.7251953058301357_false_6378376648664178884.txt : 65536\n",
      "read ../analysis/parallel_test/table_5_5_0.0_1.7251953058301357_false_2526064976135495416.txt : 65536\n",
      "read ../analysis/parallel_test/table_5_5_0.0_1.7251953058301357_false_8099999927687577813.txt : 65536\n",
      "read ../analysis/parallel_test/table_5_5_0.0_1.7251953058301357_false_2144695872479920763.txt : 65536\n",
      "read ../analysis/parallel_test/table_5_5_0.0_1.7251953058301357_false_2192474314818441160.txt : 65536\n",
      "read ../analysis/parallel_test/table_5_5_0.0_1.7251953058301357_false_1155858422860604824.txt : 65536\n",
      "read ../analysis/parallel_test/table_5_5_0.0_1.7251953058301357_false_5235061926720105119.txt : 65536\n",
      "read ../analysis/parallel_test/table_5_5_0.0_1.7251953058301357_false_1155848022938126016.txt : 65536\n",
      "read ../analysis/parallel_test/table_5_5_0.0_1.7251953058301357_false_844734579754889667.txt : 65536\n",
      "read ../analysis/parallel_test/table_5_5_0.0_1.7251953058301357_false_2262765362560826600.txt : 65536\n",
      "read ../analysis/parallel_test/table_5_5_0.0_1.7251953058301357_false_6178193690463458704.txt : 65536\n",
      "read ../analysis/parallel_test/table_5_5_0.0_1.7251953058301357_false_838790612649383159.txt : 65536\n",
      "read ../analysis/parallel_test/table_5_5_0.0_1.7251953058301357_false_604218338728295212.txt : 65536\n",
      "read ../analysis/parallel_test/table_5_5_0.0_1.7251953058301357_false_738570195350439899.txt : 65536\n",
      "read ../analysis/parallel_test/table_5_5_0.0_1.7251953058301357_false_6892191013475934822.txt : 65536\n",
      "read ../analysis/parallel_test/table_5_5_0.0_1.7251953058301357_false_2241295163301810618.txt : 65536\n",
      "read ../analysis/parallel_test/table_5_5_0.0_1.7251953058301357_false_4510892330166942440.txt : 65536\n",
      "read ../analysis/parallel_test/table_5_5_0.0_1.7251953058301357_false_2748263238032743760.txt : 65536\n",
      "read ../analysis/parallel_test/table_5_5_0.0_1.7251953058301357_false_7035203834177518995.txt : 65536\n",
      "read ../analysis/parallel_test/table_5_5_0.0_1.7251953058301357_false_6638175507426224175.txt : 65536\n",
      "read ../analysis/parallel_test/table_5_5_0.0_1.7251953058301357_false_7729518993486983555.txt : 65536\n",
      "read ../analysis/parallel_test/table_5_5_0.0_1.7251953058301357_false_6258461890841002332.txt : 65536\n",
      "read ../analysis/parallel_test/table_5_5_0.0_1.7251953058301357_false_8665464237011214045.txt : 65536\n",
      "read ../analysis/parallel_test/table_5_5_0.0_1.7251953058301357_false_121161137867802133.txt : 65536\n",
      "read ../analysis/parallel_test/table_5_5_0.0_1.7251953058301357_false_3981306294354729454.txt : 65536\n",
      "read ../analysis/parallel_test/table_5_5_0.0_1.7251953058301357_false_8739171405796296946.txt : 65536\n",
      "read ../analysis/parallel_test/table_5_5_0.0_1.7251953058301357_false_7302564439085808661.txt : 65536\n",
      "read ../analysis/parallel_test/table_5_5_0.0_1.7251953058301357_false_6273174579139653857.txt : 65536\n",
      "read ../analysis/parallel_test/table_5_5_0.0_1.7251953058301357_false_5708836669150424748.txt : 65536\n",
      "read ../analysis/parallel_test/table_5_5_0.0_1.7251953058301357_false_1139372472852287862.txt : 65536\n",
      "read ../analysis/parallel_test/table_5_5_0.0_1.7251953058301357_false_7007688451021936255.txt : 65536\n",
      "read ../analysis/parallel_test/table_5_5_0.0_1.7251953058301357_false_4479568253251370359.txt : 65536\n",
      "read ../analysis/parallel_test/table_5_5_0.0_1.7251953058301357_false_7216715380962412083.txt : 65536\n",
      "read ../analysis/parallel_test/table_5_5_0.0_1.7251953058301357_false_3349418473281148207.txt : 65536\n",
      "read ../analysis/parallel_test/table_5_5_0.0_1.7251953058301357_false_4272502999263978208.txt : 65536\n",
      "read ../analysis/parallel_test/table_5_5_0.0_1.7251953058301357_false_7207773493280535526.txt : 65536\n",
      "read ../analysis/parallel_test/table_5_5_0.0_1.7251953058301357_false_7113247669315008543.txt : 65536\n"
     ]
    }
   ],
   "source": [
    "# Read data\n",
    "\n",
    "nonlinear_relax_times = []\n",
    "\n",
    "# get simulation parameters in namedtuple\n",
    "sim = list(simulations.itertuples())[0]\n",
    "path='../analysis/'+sim.folderName+'/table_'+str(sim.L)+'_'+str(sim.L)+'_'+str(sim.Bex)+'_'+str(sim.T)+'_'+str(sim.mech)+'_'+'*'+'.txt'\n",
    "\n",
    "file_list = glob.glob(path) # list of all files that match the sim parameters\n",
    "\n",
    "arrays=[]\n",
    "\n",
    "# iterate over seeds (ind. runs):\n",
    "for fname in file_list:\n",
    "    y = analysis_tools.get_table_data_by_fname(fname, print_prog=True)\n",
    "\n",
    "    arrays.append(y)\n",
    "\n",
    "all_tables = pd.concat(arrays)\n",
    "\n",
    "# create new columns w/ abs and squared magnetization (otherwise averages are meaningless)\n",
    "all_tables['|m|']=all_tables['Magnetization'].abs()\n",
    "all_tables['m2']=all_tables['Magnetization']**2\n",
    "\n",
    "# average over independent simulations (all columns)\n",
    "ind_runs_means = all_tables.groupby(all_tables.index).mean()\n",
    "\n",
    "# number of runs\n",
    "n=len(ind_runs_means)\n",
    "\n",
    "# non-linear relaxation func as defined in (2.57), p.34 of Binder, K. (2010). Monte Carlo Simulation in Statistical Physics An Introduction (5th ed. 2010..). Springer Berlin Heidelberg.\n",
    "# (mean is taken over the last half of the time series)\n",
    "nonlinear_relax_func = (ind_runs_means -  ind_runs_means.iloc[int(n/2):].mean())/(ind_runs_means.iloc[0] - ind_runs_means.iloc[int(n/2):].mean())"
   ]
  },
  {
   "cell_type": "code",
   "execution_count": null,
   "metadata": {
    "collapsed": true
   },
   "outputs": [],
   "source": [
    "# reset nonlinear_relax_func start\n",
    "nonlinear_relax_func = (ind_runs_means -  ind_runs_means.iloc[int(n/2):].mean())/(ind_runs_means.iloc[0] - ind_runs_means.iloc[int(n/2):].mean())"
   ]
  },
  {
   "cell_type": "code",
   "execution_count": null,
   "metadata": {
    "collapsed": true
   },
   "outputs": [],
   "source": [
    "# display full dataframe\n",
    "pd.set_option('display.max_rows', None)"
   ]
  },
  {
   "cell_type": "code",
   "execution_count": 179,
   "metadata": {
    "collapsed": true
   },
   "outputs": [],
   "source": [
    "# set observable\n",
    "observable='Energy'"
   ]
  },
  {
   "cell_type": "code",
   "execution_count": 180,
   "metadata": {
    "collapsed": true
   },
   "outputs": [],
   "source": [
    "def find_init_tau(tau_cumsum_to_t_ratio, tol=0.1):\n",
    "    \"\"\"find initial tau where the ratio of tau cummulative sum to t (index) is less than tol=0.1 for at least 10 time steps\"\"\"\n",
    "    tau1=tau_cumsum_to_t_ratio.abs().lt(tol).idxmax()\n",
    "    while not (tau_cumsum_to_t_ratio.abs().loc[tau1:tau1+10] < tol).all():\n",
    "        tau1=(tau_cumsum_to_t_ratio.abs().loc[tau1+1:] < tol).idxmax()\n",
    "    return tau1"
   ]
  },
  {
   "cell_type": "code",
   "execution_count": 184,
   "metadata": {},
   "outputs": [
    {
     "name": "stdout",
     "output_type": "stream",
     "text": [
      "After 1 tries, found:\n",
      "(tau,t_{M_0}) = (5.798662202521475, 58)\n"
     ]
    }
   ],
   "source": [
    "# find self consistent values for tau and t_{M0}\n",
    "\n",
    "tau_cumsum_to_t_ratio=(nonlinear_relax_func[observable].cumsum() / nonlinear_relax_func[observable].index)\n",
    "\n",
    "tau1=find_init_tau(tau_cumsum_to_t_ratio)\n",
    "nonlinear_relax_func = (ind_runs_means -  ind_runs_means.iloc[tau1:].mean())/(ind_runs_means.iloc[0] - ind_runs_means.iloc[tau1:].mean())\n",
    "tau_cumsum_to_t_ratio=(nonlinear_relax_func[observable].cumsum() / nonlinear_relax_func[observable].index)\n",
    "tries=0\n",
    "while tries < 10 and tau1!=find_init_tau(tau_cumsum_to_t_ratio):\n",
    "    tries+=1\n",
    "    tau1=find_init_tau(tau_cumsum_to_t_ratio)\n",
    "    nonlinear_relax_func = (ind_runs_means -  ind_runs_means.iloc[tau1:].mean())/(ind_runs_means.iloc[0] - ind_runs_means.iloc[tau1:].mean())\n",
    "    tau_cumsum_to_t_ratio=(nonlinear_relax_func[observable].cumsum() / nonlinear_relax_func[observable].index)\n",
    "    print(tries)\n",
    "if tries>=10:\n",
    "    print('no self consistent value of tau was found!')\n",
    "else:\n",
    "    print('After %s tries, found:'%(tries+1))\n",
    "    print('(tau,t_{M_0}) = ' + str((nonlinear_relax_func[observable].cumsum().loc[tau1],tau1)))"
   ]
  },
  {
   "cell_type": "code",
   "execution_count": null,
   "metadata": {
    "collapsed": true
   },
   "outputs": [],
   "source": [
    "plt.close('all')"
   ]
  },
  {
   "cell_type": "code",
   "execution_count": null,
   "metadata": {
    "collapsed": true,
    "scrolled": true
   },
   "outputs": [],
   "source": [
    "plt.show()"
   ]
  }
 ],
 "metadata": {
  "kernelspec": {
   "display_name": "Python 3",
   "language": "python",
   "name": "python3"
  },
  "language_info": {
   "codemirror_mode": {
    "name": "ipython",
    "version": 3
   },
   "file_extension": ".py",
   "mimetype": "text/x-python",
   "name": "python",
   "nbconvert_exporter": "python",
   "pygments_lexer": "ipython3",
   "version": "3.7.7"
  }
 },
 "nbformat": 4,
 "nbformat_minor": 4
}
