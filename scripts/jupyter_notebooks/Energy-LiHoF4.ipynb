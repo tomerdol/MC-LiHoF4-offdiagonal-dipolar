{
 "cells": [
  {
   "cell_type": "code",
   "execution_count": 19,
   "metadata": {},
   "outputs": [],
   "source": [
    "%matplotlib qt"
   ]
  },
  {
   "cell_type": "markdown",
   "metadata": {},
   "source": [
    "# Energy calculator"
   ]
  },
  {
   "cell_type": "markdown",
   "metadata": {},
   "source": [
    "Caculates the energy of a single Ho ion in the LiHoF<sub>4</sub> crystal."
   ]
  },
  {
   "cell_type": "code",
   "execution_count": 1,
   "metadata": {},
   "outputs": [],
   "source": [
    "import numpy as np\n",
    "from numpy import linalg as LA\n",
    "import matplotlib.pyplot as plt\n",
    "from scipy import optimize\n",
    "import math\n",
    "import pandas as pd\n",
    "import sys\n",
    "import os"
   ]
  },
  {
   "cell_type": "code",
   "execution_count": 2,
   "metadata": {},
   "outputs": [],
   "source": [
    "#constants\n",
    "hbar=1\n",
    "J=8\n",
    "deg_J = 2 * J + 1\n",
    "u_B=0.6717\n",
    "g_L=5/4"
   ]
  },
  {
   "cell_type": "code",
   "execution_count": 3,
   "metadata": {},
   "outputs": [],
   "source": [
    "# J matrices\n",
    "jplus = hbar * np.diag(np.array( [ math.sqrt(J*(J+1) - m*(m+1)) for m in np.arange(-J,J) ] ), 1)\n",
    "jminus = hbar * np.diag(np.array( [ math.sqrt(J*(J+1) - m*(m-1)) for m in np.arange(-J+1,J+1) ] ),-1)\n",
    "jx = (jplus + jminus) * 0.5\n",
    "jy = (jplus - jminus) * (-0.5j)\n",
    "jz = hbar * np.diag(np.arange(-J,J+1))\n",
    "I_J = np.diag(np.ones(int(round(deg_J))))\n",
    "\n",
    "\n",
    "# crystal field equivalent operators\n",
    "O02 = 3 * LA.matrix_power(jz,2) - J*(J+1)*I_J\n",
    "O04 = 35 * LA.matrix_power(jz,4) - 30 * J * (J+1) * LA.matrix_power(jz,2) + 25*LA.matrix_power(jz,2) - 6 * J * (J+1) * I_J + 3 * J**2 * (J+1)**2 * I_J\n",
    "O44C = 0.5 * (LA.matrix_power(jplus,4) + LA.matrix_power(jminus,4))\n",
    "O06 = 231 * LA.matrix_power(jz,6) - 315*J*(J+1)*LA.matrix_power(jz,4) + 735*LA.matrix_power(jz,4) + 105 * J**2 * (J+1)**2 * LA.matrix_power(jz,2) - 525*J*(J+1)*LA.matrix_power(jz,2) + 294*LA.matrix_power(jz,2) - 5 * J**3 * (J+1)**3 * I_J + 40 * J**2 *(J+1)**2 * I_J - 60*J*(J+1)*I_J\n",
    "O46C1 = 0.25 * (LA.matrix_power(jplus,4) + LA.matrix_power(jminus,4)) @ (11*LA.matrix_power(jz,2) - J*(J+1)*I_J - 38*I_J)\n",
    "O46S1 = -0.25j * (LA.matrix_power(jplus,4) - LA.matrix_power(jminus,4)) @ (11 * LA.matrix_power(jz,2) - J*(J+1)*I_J - 38*I_J)\n",
    "O46C = O46C1 + np.transpose(np.conj(O46C1))\n",
    "O46S = O46S1 + np.transpose(np.conj(O46S1))\n",
    "\n",
    "\n",
    "# crystal field parameters\n",
    "B02 = -0.696\n",
    "B04 = 4.06e-3\n",
    "B06 =  4.64e-6\n",
    "B44C = 0.0418\n",
    "B46C = 8.12e-4\n",
    "B46S = 1.137e-4\n",
    "\n",
    "\n",
    "# crystal field Hamiltonian\n",
    "H_cf = B02*O02 + B04*O04 + B06*O06 + B44C*O44C + B46C*O46C + B46S*O46S"
   ]
  },
  {
   "cell_type": "code",
   "execution_count": 4,
   "metadata": {
    "scrolled": true
   },
   "outputs": [],
   "source": [
    "# linear spacing for B:\n",
    "Bx = np.linspace(-6,6,num=1601)\n",
    "By = 0.0\n",
    "Bz = 0.05"
   ]
  },
  {
   "cell_type": "code",
   "execution_count": 5,
   "metadata": {},
   "outputs": [],
   "source": [
    "H = [H_cf - u_B*g_L*(bx*jx + By*jy + Bz*jz) for bx in Bx]    # zeeman term"
   ]
  },
  {
   "cell_type": "code",
   "execution_count": 6,
   "metadata": {},
   "outputs": [],
   "source": [
    "res_up=[]\n",
    "res_down=[]\n",
    "moment=[]\n",
    "for h in H:\n",
    "    w,v = LA.eigh(h)\n",
    "    res_up.append(w[0])\n",
    "    res_down.append(w[1])\n",
    "    moment.append(np.real(np.diagonal(np.conj(v.T)@jz@v)[0]))\n",
    "res_up = np.array(res_up)\n",
    "res_down = np.array(res_down)\n",
    "moment = np.array(moment)"
   ]
  },
  {
   "cell_type": "code",
   "execution_count": 20,
   "metadata": {},
   "outputs": [
    {
     "data": {
      "text/plain": [
       "0.0"
      ]
     },
     "execution_count": 20,
     "metadata": {},
     "output_type": "execute_result"
    }
   ],
   "source": [
    "Bx[800]"
   ]
  },
  {
   "cell_type": "code",
   "execution_count": 23,
   "metadata": {},
   "outputs": [
    {
     "data": {
      "text/plain": [
       "0.10245865802129295"
      ]
     },
     "execution_count": 23,
     "metadata": {},
     "output_type": "execute_result"
    }
   ],
   "source": [
    "moment[800]-moment[800+delta_bx_idx]"
   ]
  },
  {
   "cell_type": "code",
   "execution_count": 22,
   "metadata": {},
   "outputs": [
    {
     "data": {
      "text/plain": [
       "5.409458273217776"
      ]
     },
     "execution_count": 22,
     "metadata": {},
     "output_type": "execute_result"
    }
   ],
   "source": []
  },
  {
   "cell_type": "code",
   "execution_count": null,
   "metadata": {},
   "outputs": [],
   "source": []
  },
  {
   "cell_type": "code",
   "execution_count": 7,
   "metadata": {
    "scrolled": true
   },
   "outputs": [
    {
     "data": {
      "text/plain": [
       "<matplotlib.legend.Legend at 0x18d898efa48>"
      ]
     },
     "execution_count": 7,
     "metadata": {},
     "output_type": "execute_result"
    },
    {
     "data": {
      "image/png": "[encoded data removed]",
      "text/plain": [
       "<Figure size 432x288 with 1 Axes>"
      ]
     },
     "metadata": {
      "needs_background": "light"
     },
     "output_type": "display_data"
    }
   ],
   "source": [
    "# plot energy decrease for a single ion when the transverse field is the average of a field in the \n",
    "# same direction of the external field and a field in the opposite direction. This is in comparison to no\n",
    "# such fields - just the external field.\n",
    "# This should provide a measure for the effectiveness of the ODD muchanism for any given external Bx.\n",
    "delta_bx=0.4\n",
    "delta_bx_idx = int(delta_bx/(Bx[1]-Bx[0]))\n",
    "plt.plot(Bx[delta_bx_idx:-delta_bx_idx],(res_up - (np.roll(res_up,delta_bx_idx) + np.roll(res_up,-delta_bx_idx))*0.5)[delta_bx_idx:-delta_bx_idx],label='up')\n",
    "plt.plot(Bx[delta_bx_idx:-delta_bx_idx],(res_down - (np.roll(res_down,delta_bx_idx) + np.roll(res_down,-delta_bx_idx))*0.5)[delta_bx_idx:-delta_bx_idx],label='down')\n",
    "plt.plot(Bx[delta_bx_idx:-delta_bx_idx],(((res_up - (np.roll(res_up,delta_bx_idx) + np.roll(res_up,-delta_bx_idx))*0.5) + (res_down - (np.roll(res_down,delta_bx_idx) + np.roll(res_down,-delta_bx_idx))*0.5))*0.5)[delta_bx_idx:-delta_bx_idx],label='average')\n",
    "plt.legend()"
   ]
  },
  {
   "cell_type": "code",
   "execution_count": 8,
   "metadata": {},
   "outputs": [
    {
     "name": "stdout",
     "output_type": "stream",
     "text": [
      "Stored 'xBx' (ndarray)\n",
      "Stored 'deltaE' (ndarray)\n"
     ]
    }
   ],
   "source": [
    "xBx = Bx[delta_bx_idx:-delta_bx_idx]\n",
    "deltaE = (((res_up - (np.roll(res_up,delta_bx_idx) + np.roll(res_up,-delta_bx_idx))*0.5) + (res_down - (np.roll(res_down,delta_bx_idx) + np.roll(res_down,-delta_bx_idx))*0.5))*0.5)[delta_bx_idx:-delta_bx_idx]\n",
    "\n",
    "%store xBx\n",
    "%store deltaE"
   ]
  },
  {
   "cell_type": "code",
   "execution_count": 95,
   "metadata": {},
   "outputs": [
    {
     "data": {
      "text/plain": [
       "[<matplotlib.lines.Line2D at 0x2c6d0c407c8>]"
      ]
     },
     "execution_count": 95,
     "metadata": {},
     "output_type": "execute_result"
    }
   ],
   "source": [
    "plt.plot(Bx,res_up)\n",
    "plt.plot(Bx,res_down)"
   ]
  },
  {
   "cell_type": "code",
   "execution_count": 85,
   "metadata": {},
   "outputs": [],
   "source": [
    "plt.close()"
   ]
  },
  {
   "cell_type": "code",
   "execution_count": 4,
   "metadata": {},
   "outputs": [],
   "source": [
    "from scipy.optimize import curve_fit"
   ]
  },
  {
   "cell_type": "code",
   "execution_count": 55,
   "metadata": {},
   "outputs": [],
   "source": [
    "def lorentzian( x, x0, a, gam ):\n",
    "    return a * gam**2 / ( gam**2 + ( x - x0 )**2)"
   ]
  },
  {
   "cell_type": "code",
   "execution_count": 65,
   "metadata": {},
   "outputs": [
    {
     "name": "stdout",
     "output_type": "stream",
     "text": [
      "Gamma=2.234864537826931\n"
     ]
    },
    {
     "name": "stderr",
     "output_type": "stream",
     "text": [
      "C:\\WPy64-3770\\python-3.7.7.amd64\\lib\\site-packages\\scipy\\optimize\\minpack.py:808: OptimizeWarning: Covariance of the parameters could not be estimated\n",
      "  category=OptimizeWarning)\n"
     ]
    },
    {
     "data": {
      "image/png": "[encoded data removed]",
      "text/plain": [
       "<Figure size 432x288 with 1 Axes>"
      ]
     },
     "metadata": {
      "needs_background": "light"
     },
     "output_type": "display_data"
    }
   ],
   "source": [
    "x_array=Bx[delta_bx_idx:-delta_bx_idx]\n",
    "y_array=(((res_up - (np.roll(res_up,delta_bx_idx) + np.roll(res_up,-delta_bx_idx))*0.5) + (res_down - (np.roll(res_down,delta_bx_idx) + np.roll(res_down,-delta_bx_idx))*0.5))*0.5)[delta_bx_idx:-delta_bx_idx]\n",
    "popt_lorentz, pcov_lorentz = curve_fit(lorentzian, x_array, y_array, p0=[0, 0.08, 3])\n",
    "lorentz_peak = lorentzian(x_array, *popt_lorentz)\n",
    "plt.plot(x_array,y_array,label='average',color=\"green\")\n",
    "plt.fill_between(x_array, lorentz_peak.min(), lorentz_peak, facecolor=\"green\", alpha=0.5)\n",
    "print('Gamma=' + str(popt_lorentz[2]))"
   ]
  },
  {
   "cell_type": "code",
   "execution_count": 52,
   "metadata": {},
   "outputs": [],
   "source": [
    "def func1( x, b, gamma ):\n",
    "    return b*x**gamma\n",
    "def func2( x, b, gamma ):\n",
    "    return x*gamma + b"
   ]
  },
  {
   "cell_type": "code",
   "execution_count": 99,
   "metadata": {},
   "outputs": [
    {
     "name": "stdout",
     "output_type": "stream",
     "text": [
      "gamma=[-4.2874254  -2.02729505]\n",
      "gamma=[-1.97198478 -3.2589671 ]\n",
      "0.014670306263724342\n",
      "0.012072520941728726\n"
     ]
    },
    {
     "data": {
      "image/png": "[encoded data removed]",
      "text/plain": [
       "<Figure size 447.84x345.6 with 1 Axes>"
      ]
     },
     "metadata": {
      "needs_background": "light"
     },
     "output_type": "display_data"
    }
   ],
   "source": [
    "last_neighbor=5\n",
    "fig, ax = plt.subplots(figsize=(6.22,4.8))\n",
    "xdata_x=[1.0,2.0,3.0,4.0,5.0,6.0,7.0]\n",
    "xdata_z=np.array([1.0,2.0,3.0,4.0,5.0,6.0,7.0])\n",
    "xdata_z*=2.077294686\n",
    "ydata_x_axis=0.25*np.array([0.05868122505489737, 0.013419913360849023, 0.005069568636827171, 0.0030055587412789464, 0.0025469184620305896, 0.0030055640963837504, 0.00506958260666579])\n",
    "ydata_z_axis=0.25*np.array([0.048290083766914904, 0.005909063736908138, 0.001544987433589995, 4.984888946637511E-4, 2.733188448473811E-4, 4.984884290024638E-4, 0.0015449876664206386])\n",
    "line_x=ax.plot(xdata_x[:last_neighbor],ydata_x_axis[:last_neighbor],label='x axis',marker='o',linestyle='',fillstyle='none')\n",
    "line_z=ax.plot(xdata_z[:last_neighbor],ydata_z_axis[:last_neighbor],label='z axis',marker='^',linestyle='',fillstyle='none')\n",
    "pz = curve_fit(func2, np.log(xdata_z[:last_neighbor]), np.log(ydata_z_axis[:last_neighbor]), p0=[1, 1])\n",
    "px = curve_fit(func2, np.log(xdata_x[:last_neighbor]), np.log(ydata_x_axis[:last_neighbor]), p0=[1, 1])\n",
    "# plt.plot(xdata, func1(xdata, *p[0]), label='x axis fit')\n",
    "print('gamma='+str(px[0]))\n",
    "print('gamma='+str(pz[0]))\n",
    "ax.plot(xdata_x[:last_neighbor],func1(xdata_x[:last_neighbor], math.e**px[0][0], px[0][1]),linestyle='solid',color=line_x[0].get_color())\n",
    "ax.plot(xdata_z[:last_neighbor],func1(xdata_z[:last_neighbor], math.e**pz[0][0], pz[0][1]),linestyle='solid',color=line_z[0].get_color())\n",
    "ax.text(1.3,0.002,\"y=%.2fx%.2f\"%(px[0][1],px[0][0]))\n",
    "ax.text(3,0.005,\"y=%.2fx%.2f\"%(pz[0][1],pz[0][0]))\n",
    "ax.set_xlabel('distance [a]')\n",
    "ax.set_ylabel('$J_{\\mathrm{eff}}$ [K]')\n",
    "# ax.set_xlim((.9,10.))\n",
    "ax.set_xscale('log')\n",
    "ax.set_yscale('log')\n",
    "ax.tick_params(direction=\"in\",which=\"both\") \n",
    "ax.legend()\n",
    "print(ydata_x_axis[0])\n",
    "print(ydata_z_axis[0])\n",
    "fig.savefig('./figures/effective_int.pdf')"
   ]
  },
  {
   "cell_type": "code",
   "execution_count": 52,
   "metadata": {},
   "outputs": [],
   "source": [
    "fig.savefig('excess_AFM_energy.png')"
   ]
  },
  {
   "cell_type": "code",
   "execution_count": 5,
   "metadata": {},
   "outputs": [
    {
     "data": {
      "text/plain": [
       "[<matplotlib.lines.Line2D at 0x238b2c03c08>]"
      ]
     },
     "execution_count": 5,
     "metadata": {},
     "output_type": "execute_result"
    },
    {
     "data": {
      "image/png": "[encoded data removed]",
      "text/plain": [
       "<Figure size 432x288 with 1 Axes>"
      ]
     },
     "metadata": {
      "needs_background": "light"
     },
     "output_type": "display_data"
    }
   ],
   "source": [
    "x=[1,2,3,4,5,6,7]\n",
    "y=[-2.1721352823078632E-5, -2.9846560209989548E-6, -1.421663910150528E-6, -1.2315576896071434E-6, -1.420790795236826E-6, -2.9846560209989548E-6, -2.1721411030739546E-5]\n",
    "plt.plot(x,y)"
   ]
  },
  {
   "cell_type": "code",
   "execution_count": null,
   "metadata": {},
   "outputs": [],
   "source": []
  }
 ],
 "metadata": {
  "kernelspec": {
   "display_name": "Python 3",
   "language": "python",
   "name": "python3"
  },
  "language_info": {
   "codemirror_mode": {
    "name": "ipython",
    "version": 3
   },
   "file_extension": ".py",
   "mimetype": "text/x-python",
   "name": "python",
   "nbconvert_exporter": "python",
   "pygments_lexer": "ipython3",
   "version": "3.7.7"
  }
 },
 "nbformat": 4,
 "nbformat_minor": 2
}
