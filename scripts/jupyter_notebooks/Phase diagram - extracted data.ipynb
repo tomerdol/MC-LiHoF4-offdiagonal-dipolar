{
 "cells": [
  {
   "cell_type": "code",
   "execution_count": 1,
   "metadata": {},
   "outputs": [],
   "source": [
    "import numpy as np\n",
    "from matplotlib import pyplot as plt\n",
    "from scipy.interpolate import make_interp_spline, BSpline\n",
    "from scipy.optimize import curve_fit\n",
    "from matplotlib.patches import Patch\n",
    "from matplotlib.lines import Line2D"
   ]
  },
  {
   "cell_type": "code",
   "execution_count": 2,
   "metadata": {},
   "outputs": [],
   "source": [
    "def make_interp(x,y):\n",
    "    x,y = sort([x,y])\n",
    "    x_new = np.linspace(x.min(),x.max(),300) #300 represents number of points to make between T.min and T.max\n",
    "    spl = make_interp_spline(x, y, k=1) #BSpline object\n",
    "    y_smooth = spl(x_new)\n",
    "    return (x_new, y_smooth)"
   ]
  },
  {
   "cell_type": "code",
   "execution_count": 3,
   "metadata": {},
   "outputs": [],
   "source": [
    "def sort(lst, sort_by_y=False):\n",
    "    if len(lst)==3:\n",
    "        x, y, err = lst\n",
    "    elif len(lst)==2:\n",
    "        x, y = lst\n",
    "        \n",
    "    if not sort_by_y:\n",
    "        p = x.argsort()\n",
    "    else:\n",
    "        p = y.argsort()\n",
    "    x=x[p]\n",
    "    y=y[p]\n",
    "    if len(lst)==3:\n",
    "        err=err[p]\n",
    "    \n",
    "    if len(lst)==3:\n",
    "        return (x,y,err)\n",
    "    elif len(lst)==2:\n",
    "        return (x,y)"
   ]
  },
  {
   "cell_type": "code",
   "execution_count": 4,
   "metadata": {},
   "outputs": [],
   "source": [
    "# read data\n",
    "Babkevich_exp_x, Babkevich_exp_y = sort(np.genfromtxt(r'data\\Babkevich_exp.txt',unpack=True),sort_by_y=True)\n",
    "Babkevich_mf_hf_x, Babkevich_mf_hf_y = sort(np.genfromtxt(r'data\\Babkevich_mf_hf.txt',unpack=True))\n",
    "Babkevich_mf_no_hf_x, Babkevich_mf_no_hf_y = sort(np.genfromtxt(r'data\\Babkevich_mf_no_hf.txt',unpack=True))\n",
    "Chakraborty_hf_x, Chakraborty_hf_y = sort(np.genfromtxt(r'data\\Chakraborty_hf.txt',unpack=True))\n",
    "Chakraborty_no_hf_x, Chakraborty_no_hf_y = sort(np.genfromtxt(r'data\\Chakraborty_no_hf.txt',unpack=True))\n",
    "Dunn_Magnetostriction_x, Dunn_Magnetostriction_y, Dunn_Magnetostriction_y_err = sort(np.genfromtxt(r'data\\Dunn_Magnetostriction.txt',unpack=True))\n",
    "Dunn_Thermal_expansion_x, Dunn_Thermal_expansion_y, Dunn_Thermal_expansion_x_err = sort(np.genfromtxt(r'data\\Dunn_Thermal_expansion.txt',unpack=True))\n",
    "Ronnow_exp_x, Ronnow_exp_y = sort(np.genfromtxt(r'data\\Ronnow_exp.txt',unpack=True))\n",
    "Ronnow_mf1_x, Ronnow_mf1_y = sort(np.genfromtxt(r'data\\Ronnow_mf1.txt',unpack=True))\n",
    "Ronnow_mf2_x, Ronnow_mf2_y = sort(np.genfromtxt(r'data\\Ronnow_mf2.txt',unpack=True))\n",
    "Bitko_mf_x, Bitko_mf_y = sort(np.genfromtxt(r'data\\Bitko_mf.txt',unpack=True))"
   ]
  },
  {
   "cell_type": "code",
   "execution_count": 14,
   "metadata": {},
   "outputs": [],
   "source": [
    "plt.close()\n",
    "fig=plt.figure(figsize=(6.22,4.8))\n",
    "plt.plot(Babkevich_mf_hf_x, Babkevich_mf_hf_y, '-', label=r'MF with $J_{\\rm{ex}}=1.16$ mK', c='C7')\n",
    "plt.plot(Ronnow_mf1_x, Ronnow_mf1_y, '-.', label=r'1/z with $J_{\\rm{ex}}=1.16$ mK', c='peru')\n",
    "plt.plot(Ronnow_mf2_x, Ronnow_mf2_y, ':', label=r'1/z with $J_{\\rm{ex}}=3.13$ mK', c='C0')\n",
    "\n",
    "# make smooth lines:\n",
    "Chakraborty_hf_x_guide, Chakraborty_hf_y_guide = make_interp(Chakraborty_hf_x,Chakraborty_hf_y)\n",
    "\n",
    "plt.plot(Babkevich_exp_x,Babkevich_exp_y,marker='>',mec='mediumslateblue',mew=1.5,ms=7,mfc='none', fillstyle='none', linestyle='none',label='Experiment',clip_on=False)\n",
    "chakraborty_hf_plt = plt.plot(Chakraborty_hf_x_guide, Chakraborty_hf_y_guide, '--', color='crimson')\n",
    "line=plt.plot(Chakraborty_hf_x, Chakraborty_hf_y, 's', fillstyle='none', label='QMC', color=chakraborty_hf_plt[0].get_color(),clip_on=False)\n",
    "\n",
    "plt.ylabel(r'$\\mathrm{B_x}$ (T)',fontsize=14)\n",
    "plt.xlabel(r'T (K)',fontsize=14)\n",
    "lgnd=plt.legend()\n",
    "\n",
    "from matplotlib.ticker import MaxNLocator\n",
    "ax=plt.gca()\n",
    "ax.set_xlim([0,2])\n",
    "# ax.xaxis.set_major_locator(MaxNLocator(prune='lower'))\n",
    "ax.text(0.1, 0.93, '(a)', transform=ax.transAxes, fontsize=14)\n",
    "ax.text(0.28, 0.4, 'Ferromagnet', transform=ax.transAxes, fontsize=12)\n",
    "ax.text(0.78, 0.55, 'Paramagnet', transform=ax.transAxes, fontsize=12)\n",
    "ax.locator_params(axis='x', nbins=6)\n",
    "ax .tick_params(axis='x', which='major', labelsize=12, direction=\"in\", pad=5)\n",
    "ax.tick_params(axis='y', which='major', labelsize=12, direction=\"in\")\n",
    "plt.margins(0)\n",
    "lgnd.legendHandles[4].set_linestyle('--')\n",
    "plt.tight_layout()\n",
    "# fig.savefig(r'figures\\phase_diagram_full.pdf',format='pdf')\n",
    "# plt.show()"
   ]
  },
  {
   "cell_type": "code",
   "execution_count": 13,
   "metadata": {},
   "outputs": [],
   "source": [
    "%matplotlib qt"
   ]
  },
  {
   "cell_type": "code",
   "execution_count": 17,
   "metadata": {},
   "outputs": [],
   "source": [
    "# shift x according to deltaE\n",
    "%store -r deltaE\n",
    "%store -r xBx\n",
    "\n",
    "shiftTc = (Babkevich_mf_hf_x.max()-1.53)*deltaE/deltaE[np.argmin(abs(xBx))]\n",
    "\n",
    "plt.plot(Babkevich_mf_hf_x-np.interp(Babkevich_mf_hf_y, xBx, shiftTc), Babkevich_mf_hf_y, '-', label=r'MF with $J_{\\rm{ex}}=1.16$ mK shifted', c='C3', linewidth=2.5)\n",
    "\n",
    "plt.show()"
   ]
  },
  {
   "cell_type": "code",
   "execution_count": 6,
   "metadata": {},
   "outputs": [],
   "source": [
    "fig.savefig(r'figures\\phase_diagram_full.pdf',format='pdf')"
   ]
  },
  {
   "cell_type": "code",
   "execution_count": null,
   "metadata": {},
   "outputs": [],
   "source": []
  }
 ],
 "metadata": {
  "kernelspec": {
   "display_name": "Python 3",
   "language": "python",
   "name": "python3"
  },
  "language_info": {
   "codemirror_mode": {
    "name": "ipython",
    "version": 3
   },
   "file_extension": ".py",
   "mimetype": "text/x-python",
   "name": "python",
   "nbconvert_exporter": "python",
   "pygments_lexer": "ipython3",
   "version": "3.7.7"
  }
 },
 "nbformat": 4,
 "nbformat_minor": 2
}
